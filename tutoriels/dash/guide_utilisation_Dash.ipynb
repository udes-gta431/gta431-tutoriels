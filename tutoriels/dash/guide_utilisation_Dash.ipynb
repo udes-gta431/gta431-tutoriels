{
 "cells": [
  {
   "cell_type": "code",
   "execution_count": null,
   "id": "initial_id",
   "metadata": {
    "collapsed": true
   },
   "outputs": [],
   "source": [
    "pip install dash"
   ]
  },
  {
   "cell_type": "code",
   "outputs": [],
   "source": [
    "import dash\n",
    "from dash import dcc, html"
   ],
   "metadata": {
    "collapsed": false
   },
   "id": "d97d312e104d3577"
  },
  {
   "cell_type": "code",
   "outputs": [],
   "source": [
    "app = dash.Dash(__name__)"
   ],
   "metadata": {
    "collapsed": false
   },
   "id": "922e6134b5431a08"
  },
  {
   "cell_type": "code",
   "outputs": [],
   "source": [
    "app.layout = html.Div([\n",
    "    html.H1(\"Mon Application Dash\"),\n",
    "    # Autres composants ici...\n",
    "])"
   ],
   "metadata": {
    "collapsed": false
   },
   "id": "d223359d6cd11ca4"
  },
  {
   "cell_type": "code",
   "outputs": [],
   "source": [
    "@app.callback(\n",
    "    Output('my-graph', 'figure'),\n",
    "    [Input('my-dropdown', 'value')]\n",
    ")\n",
    "def update_graph(selected_value):\n",
    "    # Code pour mettre à jour le graphique en fonction de la valeur sélectionnée\n",
    "    return updated_figure"
   ],
   "metadata": {
    "collapsed": false
   },
   "id": "92ecd76b9a130a35"
  },
  {
   "cell_type": "code",
   "outputs": [],
   "source": [
    "if __name__ == '__main__':\n",
    "    app.run_server(debug=True)"
   ],
   "metadata": {
    "collapsed": false
   },
   "id": "ac0ab5c4bd9a731"
  }
 ],
 "metadata": {
  "kernelspec": {
   "display_name": "Python 3",
   "language": "python",
   "name": "python3"
  },
  "language_info": {
   "codemirror_mode": {
    "name": "ipython",
    "version": 2
   },
   "file_extension": ".py",
   "mimetype": "text/x-python",
   "name": "python",
   "nbconvert_exporter": "python",
   "pygments_lexer": "ipython2",
   "version": "2.7.6"
  }
 },
 "nbformat": 4,
 "nbformat_minor": 5
}
