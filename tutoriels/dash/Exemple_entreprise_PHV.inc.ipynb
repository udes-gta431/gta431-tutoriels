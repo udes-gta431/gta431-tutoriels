{
 "cells": [
  {
   "cell_type": "code",
   "execution_count": 18,
   "id": "initial_id",
   "metadata": {
    "collapsed": true,
    "ExecuteTime": {
     "end_time": "2024-03-28T03:11:48.952191100Z",
     "start_time": "2024-03-28T03:11:46.939917700Z"
    }
   },
   "outputs": [
    {
     "name": "stdout",
     "output_type": "stream",
     "text": [
      "Requirement already satisfied: dash in c:\\users\\phvie\\appdata\\local\\programs\\python\\python312\\lib\\site-packages (2.16.1)\n",
      "Requirement already satisfied: Flask<3.1,>=1.0.4 in c:\\users\\phvie\\appdata\\local\\programs\\python\\python312\\lib\\site-packages (from dash) (3.0.2)\n",
      "Requirement already satisfied: Werkzeug<3.1 in c:\\users\\phvie\\appdata\\local\\programs\\python\\python312\\lib\\site-packages (from dash) (3.0.1)\n",
      "Requirement already satisfied: plotly>=5.0.0 in c:\\users\\phvie\\appdata\\local\\programs\\python\\python312\\lib\\site-packages (from dash) (5.20.0)\n",
      "Requirement already satisfied: dash-html-components==2.0.0 in c:\\users\\phvie\\appdata\\local\\programs\\python\\python312\\lib\\site-packages (from dash) (2.0.0)\n",
      "Requirement already satisfied: dash-core-components==2.0.0 in c:\\users\\phvie\\appdata\\local\\programs\\python\\python312\\lib\\site-packages (from dash) (2.0.0)\n",
      "Requirement already satisfied: dash-table==5.0.0 in c:\\users\\phvie\\appdata\\local\\programs\\python\\python312\\lib\\site-packages (from dash) (5.0.0)\n",
      "Requirement already satisfied: importlib-metadata in c:\\users\\phvie\\appdata\\local\\programs\\python\\python312\\lib\\site-packages (from dash) (7.1.0)\n",
      "Requirement already satisfied: typing-extensions>=4.1.1 in c:\\users\\phvie\\appdata\\local\\programs\\python\\python312\\lib\\site-packages (from dash) (4.10.0)\n",
      "Requirement already satisfied: requests in c:\\users\\phvie\\appdata\\local\\programs\\python\\python312\\lib\\site-packages (from dash) (2.31.0)\n",
      "Requirement already satisfied: retrying in c:\\users\\phvie\\appdata\\local\\programs\\python\\python312\\lib\\site-packages (from dash) (1.3.4)\n",
      "Requirement already satisfied: nest-asyncio in c:\\users\\phvie\\appdata\\local\\programs\\python\\python312\\lib\\site-packages (from dash) (1.6.0)\n",
      "Requirement already satisfied: setuptools in c:\\users\\phvie\\appdata\\local\\programs\\python\\python312\\lib\\site-packages (from dash) (69.2.0)\n",
      "Requirement already satisfied: Jinja2>=3.1.2 in c:\\users\\phvie\\appdata\\local\\programs\\python\\python312\\lib\\site-packages (from Flask<3.1,>=1.0.4->dash) (3.1.3)\n",
      "Requirement already satisfied: itsdangerous>=2.1.2 in c:\\users\\phvie\\appdata\\local\\programs\\python\\python312\\lib\\site-packages (from Flask<3.1,>=1.0.4->dash) (2.1.2)\n",
      "Requirement already satisfied: click>=8.1.3 in c:\\users\\phvie\\appdata\\local\\programs\\python\\python312\\lib\\site-packages (from Flask<3.1,>=1.0.4->dash) (8.1.7)\n",
      "Requirement already satisfied: blinker>=1.6.2 in c:\\users\\phvie\\appdata\\local\\programs\\python\\python312\\lib\\site-packages (from Flask<3.1,>=1.0.4->dash) (1.7.0)\n",
      "Requirement already satisfied: tenacity>=6.2.0 in c:\\users\\phvie\\appdata\\local\\programs\\python\\python312\\lib\\site-packages (from plotly>=5.0.0->dash) (8.2.3)\n",
      "Requirement already satisfied: packaging in c:\\users\\phvie\\appdata\\local\\programs\\python\\python312\\lib\\site-packages (from plotly>=5.0.0->dash) (24.0)\n",
      "Requirement already satisfied: MarkupSafe>=2.1.1 in c:\\users\\phvie\\appdata\\local\\programs\\python\\python312\\lib\\site-packages (from Werkzeug<3.1->dash) (2.1.5)\n",
      "Requirement already satisfied: zipp>=0.5 in c:\\users\\phvie\\appdata\\local\\programs\\python\\python312\\lib\\site-packages (from importlib-metadata->dash) (3.18.1)\n",
      "Requirement already satisfied: charset-normalizer<4,>=2 in c:\\users\\phvie\\appdata\\local\\programs\\python\\python312\\lib\\site-packages (from requests->dash) (3.3.2)\n",
      "Requirement already satisfied: idna<4,>=2.5 in c:\\users\\phvie\\appdata\\local\\programs\\python\\python312\\lib\\site-packages (from requests->dash) (3.6)\n",
      "Requirement already satisfied: urllib3<3,>=1.21.1 in c:\\users\\phvie\\appdata\\local\\programs\\python\\python312\\lib\\site-packages (from requests->dash) (2.2.1)\n",
      "Requirement already satisfied: certifi>=2017.4.17 in c:\\users\\phvie\\appdata\\local\\programs\\python\\python312\\lib\\site-packages (from requests->dash) (2024.2.2)\n",
      "Requirement already satisfied: six>=1.7.0 in c:\\users\\phvie\\appdata\\local\\programs\\python\\python312\\lib\\site-packages (from retrying->dash) (1.16.0)\n",
      "Requirement already satisfied: colorama in c:\\users\\phvie\\appdata\\local\\programs\\python\\python312\\lib\\site-packages (from click>=8.1.3->Flask<3.1,>=1.0.4->dash) (0.4.6)\n",
      "Note: you may need to restart the kernel to use updated packages.\n"
     ]
    }
   ],
   "source": [
    "pip install dash"
   ]
  },
  {
   "cell_type": "code",
   "outputs": [],
   "source": [
    "import dash\n",
    "from dash import dcc, html\n",
    "from dash.dependencies import Input, Output\n",
    "import plotly.graph_objs as go"
   ],
   "metadata": {
    "collapsed": false,
    "ExecuteTime": {
     "end_time": "2024-03-28T03:11:48.956194300Z",
     "start_time": "2024-03-28T03:11:48.948831Z"
    }
   },
   "id": "5c258b7fa9e2f8d8",
   "execution_count": 19
  },
  {
   "cell_type": "code",
   "outputs": [],
   "source": [
    "app = dash.Dash(__name__)"
   ],
   "metadata": {
    "collapsed": false,
    "ExecuteTime": {
     "end_time": "2024-03-28T03:11:48.966931700Z",
     "start_time": "2024-03-28T03:11:48.953192200Z"
    }
   },
   "id": "8230ffa17525fed3",
   "execution_count": 20
  },
  {
   "cell_type": "code",
   "outputs": [],
   "source": [
    "app.layout = html.Div([\n",
    "    html.H1(\"Analyse du profit de PHV.inc\"),\n",
    "    html.Label(\"Nombre de voitures vendues en début d'année : \"),\n",
    "    dcc.Input(id='start-cars-sold', type='number', value=200),\n",
    "    html.Label(\"Prix unitaire en début d'année : \"),\n",
    "    dcc.Input(id='start-unit-price', type='number', value=35000),\n",
    "    html.Label(\"Coût de production par voiture en début d'année : \"),\n",
    "    dcc.Input(id='start-production-cost', type='number', value=12000),\n",
    "    html.Label(\"Nombre de voitures vendues en fin d'année : \"),\n",
    "    dcc.Input(id='end-cars-sold', type='number', value=200),\n",
    "    html.Label(\"Prix unitaire en fin d'année : \"),\n",
    "    dcc.Input(id='end-unit-price', type='number', value=35000),\n",
    "    html.Label(\"Coût de production par voiture en fin d'année : \"),\n",
    "    dcc.Input(id='end-production-cost', type='number', value=11000),\n",
    "    dcc.Graph(id='profit-graph')\n",
    "])"
   ],
   "metadata": {
    "collapsed": false,
    "ExecuteTime": {
     "end_time": "2024-03-28T03:11:48.985296500Z",
     "start_time": "2024-03-28T03:11:48.968932400Z"
    }
   },
   "id": "388eecfdd23f42fd",
   "execution_count": 21
  },
  {
   "cell_type": "code",
   "outputs": [],
   "source": [
    "@app.callback(\n",
    "    Output('profit-graph', 'figure'),\n",
    "    [Input('start-cars-sold', 'value'),\n",
    "     Input('start-unit-price', 'value'),\n",
    "     Input('start-production-cost', 'value'),\n",
    "     Input('end-cars-sold', 'value'),\n",
    "     Input('end-unit-price', 'value'),\n",
    "     Input('end-production-cost', 'value')]\n",
    ")\n",
    "def update_profit_graph(start_cars_sold, start_unit_price, start_production_cost,\n",
    "                        end_cars_sold, end_unit_price, end_production_cost):\n",
    "    start_profit = (start_cars_sold * start_unit_price) - (start_cars_sold * start_production_cost)\n",
    "    end_profit = (end_cars_sold * end_unit_price) - (end_cars_sold * end_production_cost)\n",
    "    \n",
    "    data = [\n",
    "        go.Scatter(x=['Début d\\'année', 'Fin d\\'année'], y=[start_profit, end_profit], mode='lines+markers', name='Profit')\n",
    "    ]\n",
    "    layout = go.Layout(\n",
    "        title='Analyse du profit de PHV.inc',\n",
    "        xaxis=dict(title='Période de l\\'année'),\n",
    "        yaxis=dict(title='Profit ($)')\n",
    "    )\n",
    "    return {'data': data, 'layout': layout}"
   ],
   "metadata": {
    "collapsed": false,
    "ExecuteTime": {
     "end_time": "2024-03-28T03:11:48.986297800Z",
     "start_time": "2024-03-28T03:11:48.977950200Z"
    }
   },
   "id": "947c96587adfe191",
   "execution_count": 22
  },
  {
   "cell_type": "code",
   "outputs": [
    {
     "data": {
      "text/plain": "<IPython.lib.display.IFrame at 0x1fd2a8739e0>",
      "text/html": "\n        <iframe\n            width=\"100%\"\n            height=\"650\"\n            src=\"http://127.0.0.1:8050/\"\n            frameborder=\"0\"\n            allowfullscreen\n            \n        ></iframe>\n        "
     },
     "metadata": {},
     "output_type": "display_data"
    }
   ],
   "source": [
    "if __name__ == '__main__':\n",
    "    app.run_server(debug=True)"
   ],
   "metadata": {
    "collapsed": false,
    "ExecuteTime": {
     "end_time": "2024-03-28T03:11:49.435192400Z",
     "start_time": "2024-03-28T03:11:48.986297800Z"
    }
   },
   "id": "ea10790e92908263",
   "execution_count": 23
  },
  {
   "cell_type": "code",
   "outputs": [],
   "source": [],
   "metadata": {
    "collapsed": false,
    "ExecuteTime": {
     "end_time": "2024-03-28T03:11:49.441196600Z",
     "start_time": "2024-03-28T03:11:49.436194300Z"
    }
   },
   "id": "5840cc61d4351c73",
   "execution_count": 23
  }
 ],
 "metadata": {
  "kernelspec": {
   "display_name": "Python 3",
   "language": "python",
   "name": "python3"
  },
  "language_info": {
   "codemirror_mode": {
    "name": "ipython",
    "version": 2
   },
   "file_extension": ".py",
   "mimetype": "text/x-python",
   "name": "python",
   "nbconvert_exporter": "python",
   "pygments_lexer": "ipython2",
   "version": "2.7.6"
  }
 },
 "nbformat": 4,
 "nbformat_minor": 5
}
