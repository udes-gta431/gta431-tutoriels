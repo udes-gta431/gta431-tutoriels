{
 "cells": [
  {
   "cell_type": "code",
   "outputs": [],
   "source": [
    "from gettext import install"
   ],
   "metadata": {
    "collapsed": false,
    "ExecuteTime": {
     "end_time": "2024-03-28T03:28:50.461410Z",
     "start_time": "2024-03-28T03:28:50.444506Z"
    }
   },
   "id": "b0cf0b1bfe914537",
   "execution_count": 26
  },
  {
   "cell_type": "code",
   "outputs": [
    {
     "ename": "ModuleNotFoundError",
     "evalue": "No module named 'SQLAlchemy'",
     "output_type": "error",
     "traceback": [
      "\u001B[0;31m---------------------------------------------------------------------------\u001B[0m",
      "\u001B[0;31mModuleNotFoundError\u001B[0m                       Traceback (most recent call last)",
      "Cell \u001B[0;32mIn[1], line 1\u001B[0m\n\u001B[0;32m----> 1\u001B[0m \u001B[38;5;28;01mimport\u001B[39;00m \u001B[38;5;21;01mSQLAlchemy\u001B[39;00m\n\u001B[1;32m      2\u001B[0m \u001B[38;5;28;01mimport\u001B[39;00m \u001B[38;5;21;01mpip\u001B[39;00m\n",
      "\u001B[0;31mModuleNotFoundError\u001B[0m: No module named 'SQLAlchemy'"
     ]
    }
   ],
   "source": [
    "import SQLAlchemy\n",
    "import pip"
   ],
   "metadata": {
    "collapsed": false,
    "ExecuteTime": {
     "end_time": "2024-03-28T16:28:38.213842Z",
     "start_time": "2024-03-28T16:28:38.138377Z"
    }
   },
   "id": "6dab8be30fb9fd96",
   "execution_count": 1
  },
  {
   "cell_type": "markdown",
   "source": [
    "Étape 1 : Installation de SQLAlchemy"
   ],
   "metadata": {
    "collapsed": false
   },
   "id": "dfe926d4b0f8110a"
  },
  {
   "cell_type": "code",
   "outputs": [
    {
     "ename": "SyntaxError",
     "evalue": "invalid syntax (3721359207.py, line 1)",
     "output_type": "error",
     "traceback": [
      "\u001B[0;36m  Cell \u001B[0;32mIn[5], line 1\u001B[0;36m\u001B[0m\n\u001B[0;31m    pip install SQLAlchemy\u001B[0m\n\u001B[0m        ^\u001B[0m\n\u001B[0;31mSyntaxError\u001B[0m\u001B[0;31m:\u001B[0m invalid syntax\n"
     ]
    }
   ],
   "source": [
    "pip install SQLAlchemy"
   ],
   "metadata": {
    "collapsed": false,
    "ExecuteTime": {
     "end_time": "2024-03-28T03:35:09.544117Z",
     "start_time": "2024-03-28T03:35:09.540121Z"
    }
   },
   "id": "369647909855844a",
   "execution_count": 5
  },
  {
   "cell_type": "markdown",
   "source": [
    "Étape 2 : Configuration de la base de données"
   ],
   "metadata": {
    "collapsed": false
   },
   "id": "31bf2b047855c91b"
  },
  {
   "cell_type": "code",
   "outputs": [],
   "source": [
    "from sqlalchemy import create_engine\n",
    "\n",
    "# Créez une connexion à une base de données SQLite en mémoire\n",
    "engine = create_engine('sqlite:///:memory:', echo=True)"
   ],
   "metadata": {
    "collapsed": false,
    "ExecuteTime": {
     "start_time": "2024-03-28T03:28:50.480104Z"
    }
   },
   "id": "e60564300e34a67a",
   "execution_count": null
  },
  {
   "cell_type": "markdown",
   "source": [
    "Étape 3 : Définitions des modèles"
   ],
   "metadata": {
    "collapsed": false
   },
   "id": "ebcbd1ad286610c9"
  },
  {
   "cell_type": "code",
   "outputs": [
    {
     "name": "stderr",
     "output_type": "stream",
     "text": [
      "/var/folders/tl/j9drm4q1657g0nknhy18fgkm0000gn/T/ipykernel_7881/3522591020.py:4: MovedIn20Warning: The ``declarative_base()`` function is now available as sqlalchemy.orm.declarative_base(). (deprecated since: 2.0) (Background on SQLAlchemy 2.0 at: https://sqlalche.me/e/b8d9)\n",
      "  Base = declarative_base()\n"
     ]
    }
   ],
   "source": [
    "from sqlalchemy.ext.declarative import declarative_base\n",
    "from sqlalchemy import Column, Integer, String\n",
    "\n",
    "Base = declarative_base()\n",
    "\n",
    "class User(Base):\n",
    "    __tablename__ = 'users'\n",
    "    \n",
    "    id = Column(Integer, primary_key=True)\n",
    "    name = Column(String)\n",
    "    age = Column(Integer)"
   ],
   "metadata": {
    "collapsed": false,
    "ExecuteTime": {
     "end_time": "2024-03-28T03:37:38.462832Z",
     "start_time": "2024-03-28T03:37:38.318632Z"
    }
   },
   "id": "d171f33c9565fa87",
   "execution_count": 7
  },
  {
   "cell_type": "markdown",
   "source": [
    "Étape 4 : Création des tables"
   ],
   "metadata": {
    "collapsed": false
   },
   "id": "952c2b5df3c92edf"
  },
  {
   "cell_type": "code",
   "outputs": [
    {
     "ename": "NameError",
     "evalue": "name 'engine' is not defined",
     "output_type": "error",
     "traceback": [
      "\u001B[0;31m---------------------------------------------------------------------------\u001B[0m",
      "\u001B[0;31mNameError\u001B[0m                                 Traceback (most recent call last)",
      "Cell \u001B[0;32mIn[8], line 1\u001B[0m\n\u001B[0;32m----> 1\u001B[0m Base\u001B[38;5;241m.\u001B[39mmetadata\u001B[38;5;241m.\u001B[39mcreate_all(\u001B[43mengine\u001B[49m)\n",
      "\u001B[0;31mNameError\u001B[0m: name 'engine' is not defined"
     ]
    }
   ],
   "source": [
    "Base.metadata.create_all(engine)"
   ],
   "metadata": {
    "collapsed": false,
    "ExecuteTime": {
     "end_time": "2024-03-28T03:38:05.213160Z",
     "start_time": "2024-03-28T03:38:05.195041Z"
    }
   },
   "id": "6b6de43833bc3be8",
   "execution_count": 8
  },
  {
   "cell_type": "markdown",
   "source": [
    "Étape 5 : Création d'une session"
   ],
   "metadata": {
    "collapsed": false
   },
   "id": "92ae5c7d16b4f1d3"
  },
  {
   "cell_type": "code",
   "outputs": [],
   "source": [
    "from sqlalchemy.orm import sessionmaker\n",
    "\n",
    "Session = sessionmaker(bind=engine)\n",
    "session = Session()"
   ],
   "metadata": {
    "collapsed": false,
    "ExecuteTime": {
     "end_time": "2024-03-28T03:28:50.511515Z",
     "start_time": "2024-03-28T03:28:50.484682Z"
    }
   },
   "id": "6fdd71d3b8ca1eeb",
   "execution_count": 28
  },
  {
   "cell_type": "markdown",
   "source": [
    "Étape 6 : Ajout de nouveaux objets"
   ],
   "metadata": {
    "collapsed": false
   },
   "id": "4533f4c5bfda04b8"
  },
  {
   "cell_type": "code",
   "outputs": [
    {
     "name": "stdout",
     "output_type": "stream",
     "text": [
      "2024-03-27 23:28:50,514 INFO sqlalchemy.engine.Engine BEGIN (implicit)\n",
      "2024-03-27 23:28:50,515 INFO sqlalchemy.engine.Engine INSERT INTO users (name, age) VALUES (?, ?)\n",
      "2024-03-27 23:28:50,516 INFO sqlalchemy.engine.Engine [cached since 5.75s ago] ('André Côté', 47)\n",
      "2024-03-27 23:28:50,516 INFO sqlalchemy.engine.Engine ROLLBACK\n"
     ]
    },
    {
     "ename": "OperationalError",
     "evalue": "(sqlite3.OperationalError) no such table: users\n[SQL: INSERT INTO users (name, age) VALUES (?, ?)]\n[parameters: ('André Côté', 47)]\n(Background on this error at: https://sqlalche.me/e/20/e3q8)",
     "output_type": "error",
     "traceback": [
      "\u001B[0;31m---------------------------------------------------------------------------\u001B[0m",
      "\u001B[0;31mOperationalError\u001B[0m                          Traceback (most recent call last)",
      "File \u001B[0;32m/Library/Frameworks/Python.framework/Versions/3.12/lib/python3.12/site-packages/sqlalchemy/engine/base.py:1971\u001B[0m, in \u001B[0;36mConnection._exec_single_context\u001B[0;34m(self, dialect, context, statement, parameters)\u001B[0m\n\u001B[1;32m   1970\u001B[0m     \u001B[38;5;28;01mif\u001B[39;00m \u001B[38;5;129;01mnot\u001B[39;00m evt_handled:\n\u001B[0;32m-> 1971\u001B[0m         \u001B[38;5;28;43mself\u001B[39;49m\u001B[38;5;241;43m.\u001B[39;49m\u001B[43mdialect\u001B[49m\u001B[38;5;241;43m.\u001B[39;49m\u001B[43mdo_execute\u001B[49m\u001B[43m(\u001B[49m\n\u001B[1;32m   1972\u001B[0m \u001B[43m            \u001B[49m\u001B[43mcursor\u001B[49m\u001B[43m,\u001B[49m\u001B[43m \u001B[49m\u001B[43mstr_statement\u001B[49m\u001B[43m,\u001B[49m\u001B[43m \u001B[49m\u001B[43meffective_parameters\u001B[49m\u001B[43m,\u001B[49m\u001B[43m \u001B[49m\u001B[43mcontext\u001B[49m\n\u001B[1;32m   1973\u001B[0m \u001B[43m        \u001B[49m\u001B[43m)\u001B[49m\n\u001B[1;32m   1975\u001B[0m \u001B[38;5;28;01mif\u001B[39;00m \u001B[38;5;28mself\u001B[39m\u001B[38;5;241m.\u001B[39m_has_events \u001B[38;5;129;01mor\u001B[39;00m \u001B[38;5;28mself\u001B[39m\u001B[38;5;241m.\u001B[39mengine\u001B[38;5;241m.\u001B[39m_has_events:\n",
      "File \u001B[0;32m/Library/Frameworks/Python.framework/Versions/3.12/lib/python3.12/site-packages/sqlalchemy/engine/default.py:919\u001B[0m, in \u001B[0;36mDefaultDialect.do_execute\u001B[0;34m(self, cursor, statement, parameters, context)\u001B[0m\n\u001B[1;32m    918\u001B[0m \u001B[38;5;28;01mdef\u001B[39;00m \u001B[38;5;21mdo_execute\u001B[39m(\u001B[38;5;28mself\u001B[39m, cursor, statement, parameters, context\u001B[38;5;241m=\u001B[39m\u001B[38;5;28;01mNone\u001B[39;00m):\n\u001B[0;32m--> 919\u001B[0m     \u001B[43mcursor\u001B[49m\u001B[38;5;241;43m.\u001B[39;49m\u001B[43mexecute\u001B[49m\u001B[43m(\u001B[49m\u001B[43mstatement\u001B[49m\u001B[43m,\u001B[49m\u001B[43m \u001B[49m\u001B[43mparameters\u001B[49m\u001B[43m)\u001B[49m\n",
      "\u001B[0;31mOperationalError\u001B[0m: no such table: users",
      "\nThe above exception was the direct cause of the following exception:\n",
      "\u001B[0;31mOperationalError\u001B[0m                          Traceback (most recent call last)",
      "Cell \u001B[0;32mIn[29], line 3\u001B[0m\n\u001B[1;32m      1\u001B[0m new_user \u001B[38;5;241m=\u001B[39m User(name\u001B[38;5;241m=\u001B[39m\u001B[38;5;124m'\u001B[39m\u001B[38;5;124mAndré Côté\u001B[39m\u001B[38;5;124m'\u001B[39m, age\u001B[38;5;241m=\u001B[39m\u001B[38;5;241m47\u001B[39m)\n\u001B[1;32m      2\u001B[0m session\u001B[38;5;241m.\u001B[39madd(new_user)\n\u001B[0;32m----> 3\u001B[0m \u001B[43msession\u001B[49m\u001B[38;5;241;43m.\u001B[39;49m\u001B[43mcommit\u001B[49m\u001B[43m(\u001B[49m\u001B[43m)\u001B[49m\n",
      "File \u001B[0;32m/Library/Frameworks/Python.framework/Versions/3.12/lib/python3.12/site-packages/sqlalchemy/orm/session.py:1972\u001B[0m, in \u001B[0;36mSession.commit\u001B[0;34m(self)\u001B[0m\n\u001B[1;32m   1969\u001B[0m \u001B[38;5;28;01mif\u001B[39;00m trans \u001B[38;5;129;01mis\u001B[39;00m \u001B[38;5;28;01mNone\u001B[39;00m:\n\u001B[1;32m   1970\u001B[0m     trans \u001B[38;5;241m=\u001B[39m \u001B[38;5;28mself\u001B[39m\u001B[38;5;241m.\u001B[39m_autobegin_t()\n\u001B[0;32m-> 1972\u001B[0m \u001B[43mtrans\u001B[49m\u001B[38;5;241;43m.\u001B[39;49m\u001B[43mcommit\u001B[49m\u001B[43m(\u001B[49m\u001B[43m_to_root\u001B[49m\u001B[38;5;241;43m=\u001B[39;49m\u001B[38;5;28;43;01mTrue\u001B[39;49;00m\u001B[43m)\u001B[49m\n",
      "File \u001B[0;32m<string>:2\u001B[0m, in \u001B[0;36mcommit\u001B[0;34m(self, _to_root)\u001B[0m\n",
      "File \u001B[0;32m/Library/Frameworks/Python.framework/Versions/3.12/lib/python3.12/site-packages/sqlalchemy/orm/state_changes.py:139\u001B[0m, in \u001B[0;36m_StateChange.declare_states.<locals>._go\u001B[0;34m(fn, self, *arg, **kw)\u001B[0m\n\u001B[1;32m    137\u001B[0m \u001B[38;5;28mself\u001B[39m\u001B[38;5;241m.\u001B[39m_next_state \u001B[38;5;241m=\u001B[39m _StateChangeStates\u001B[38;5;241m.\u001B[39mCHANGE_IN_PROGRESS\n\u001B[1;32m    138\u001B[0m \u001B[38;5;28;01mtry\u001B[39;00m:\n\u001B[0;32m--> 139\u001B[0m     ret_value \u001B[38;5;241m=\u001B[39m \u001B[43mfn\u001B[49m\u001B[43m(\u001B[49m\u001B[38;5;28;43mself\u001B[39;49m\u001B[43m,\u001B[49m\u001B[43m \u001B[49m\u001B[38;5;241;43m*\u001B[39;49m\u001B[43marg\u001B[49m\u001B[43m,\u001B[49m\u001B[43m \u001B[49m\u001B[38;5;241;43m*\u001B[39;49m\u001B[38;5;241;43m*\u001B[39;49m\u001B[43mkw\u001B[49m\u001B[43m)\u001B[49m\n\u001B[1;32m    140\u001B[0m \u001B[38;5;28;01mexcept\u001B[39;00m:\n\u001B[1;32m    141\u001B[0m     \u001B[38;5;28;01mraise\u001B[39;00m\n",
      "File \u001B[0;32m/Library/Frameworks/Python.framework/Versions/3.12/lib/python3.12/site-packages/sqlalchemy/orm/session.py:1257\u001B[0m, in \u001B[0;36mSessionTransaction.commit\u001B[0;34m(self, _to_root)\u001B[0m\n\u001B[1;32m   1255\u001B[0m \u001B[38;5;28;01mif\u001B[39;00m \u001B[38;5;28mself\u001B[39m\u001B[38;5;241m.\u001B[39m_state \u001B[38;5;129;01mis\u001B[39;00m \u001B[38;5;129;01mnot\u001B[39;00m SessionTransactionState\u001B[38;5;241m.\u001B[39mPREPARED:\n\u001B[1;32m   1256\u001B[0m     \u001B[38;5;28;01mwith\u001B[39;00m \u001B[38;5;28mself\u001B[39m\u001B[38;5;241m.\u001B[39m_expect_state(SessionTransactionState\u001B[38;5;241m.\u001B[39mPREPARED):\n\u001B[0;32m-> 1257\u001B[0m         \u001B[38;5;28;43mself\u001B[39;49m\u001B[38;5;241;43m.\u001B[39;49m\u001B[43m_prepare_impl\u001B[49m\u001B[43m(\u001B[49m\u001B[43m)\u001B[49m\n\u001B[1;32m   1259\u001B[0m \u001B[38;5;28;01mif\u001B[39;00m \u001B[38;5;28mself\u001B[39m\u001B[38;5;241m.\u001B[39m_parent \u001B[38;5;129;01mis\u001B[39;00m \u001B[38;5;28;01mNone\u001B[39;00m \u001B[38;5;129;01mor\u001B[39;00m \u001B[38;5;28mself\u001B[39m\u001B[38;5;241m.\u001B[39mnested:\n\u001B[1;32m   1260\u001B[0m     \u001B[38;5;28;01mfor\u001B[39;00m conn, trans, should_commit, autoclose \u001B[38;5;129;01min\u001B[39;00m \u001B[38;5;28mset\u001B[39m(\n\u001B[1;32m   1261\u001B[0m         \u001B[38;5;28mself\u001B[39m\u001B[38;5;241m.\u001B[39m_connections\u001B[38;5;241m.\u001B[39mvalues()\n\u001B[1;32m   1262\u001B[0m     ):\n",
      "File \u001B[0;32m<string>:2\u001B[0m, in \u001B[0;36m_prepare_impl\u001B[0;34m(self)\u001B[0m\n",
      "File \u001B[0;32m/Library/Frameworks/Python.framework/Versions/3.12/lib/python3.12/site-packages/sqlalchemy/orm/state_changes.py:139\u001B[0m, in \u001B[0;36m_StateChange.declare_states.<locals>._go\u001B[0;34m(fn, self, *arg, **kw)\u001B[0m\n\u001B[1;32m    137\u001B[0m \u001B[38;5;28mself\u001B[39m\u001B[38;5;241m.\u001B[39m_next_state \u001B[38;5;241m=\u001B[39m _StateChangeStates\u001B[38;5;241m.\u001B[39mCHANGE_IN_PROGRESS\n\u001B[1;32m    138\u001B[0m \u001B[38;5;28;01mtry\u001B[39;00m:\n\u001B[0;32m--> 139\u001B[0m     ret_value \u001B[38;5;241m=\u001B[39m \u001B[43mfn\u001B[49m\u001B[43m(\u001B[49m\u001B[38;5;28;43mself\u001B[39;49m\u001B[43m,\u001B[49m\u001B[43m \u001B[49m\u001B[38;5;241;43m*\u001B[39;49m\u001B[43marg\u001B[49m\u001B[43m,\u001B[49m\u001B[43m \u001B[49m\u001B[38;5;241;43m*\u001B[39;49m\u001B[38;5;241;43m*\u001B[39;49m\u001B[43mkw\u001B[49m\u001B[43m)\u001B[49m\n\u001B[1;32m    140\u001B[0m \u001B[38;5;28;01mexcept\u001B[39;00m:\n\u001B[1;32m    141\u001B[0m     \u001B[38;5;28;01mraise\u001B[39;00m\n",
      "File \u001B[0;32m/Library/Frameworks/Python.framework/Versions/3.12/lib/python3.12/site-packages/sqlalchemy/orm/session.py:1232\u001B[0m, in \u001B[0;36mSessionTransaction._prepare_impl\u001B[0;34m(self)\u001B[0m\n\u001B[1;32m   1230\u001B[0m     \u001B[38;5;28;01mif\u001B[39;00m \u001B[38;5;28mself\u001B[39m\u001B[38;5;241m.\u001B[39msession\u001B[38;5;241m.\u001B[39m_is_clean():\n\u001B[1;32m   1231\u001B[0m         \u001B[38;5;28;01mbreak\u001B[39;00m\n\u001B[0;32m-> 1232\u001B[0m     \u001B[38;5;28;43mself\u001B[39;49m\u001B[38;5;241;43m.\u001B[39;49m\u001B[43msession\u001B[49m\u001B[38;5;241;43m.\u001B[39;49m\u001B[43mflush\u001B[49m\u001B[43m(\u001B[49m\u001B[43m)\u001B[49m\n\u001B[1;32m   1233\u001B[0m \u001B[38;5;28;01melse\u001B[39;00m:\n\u001B[1;32m   1234\u001B[0m     \u001B[38;5;28;01mraise\u001B[39;00m exc\u001B[38;5;241m.\u001B[39mFlushError(\n\u001B[1;32m   1235\u001B[0m         \u001B[38;5;124m\"\u001B[39m\u001B[38;5;124mOver 100 subsequent flushes have occurred within \u001B[39m\u001B[38;5;124m\"\u001B[39m\n\u001B[1;32m   1236\u001B[0m         \u001B[38;5;124m\"\u001B[39m\u001B[38;5;124msession.commit() - is an after_flush() hook \u001B[39m\u001B[38;5;124m\"\u001B[39m\n\u001B[1;32m   1237\u001B[0m         \u001B[38;5;124m\"\u001B[39m\u001B[38;5;124mcreating new objects?\u001B[39m\u001B[38;5;124m\"\u001B[39m\n\u001B[1;32m   1238\u001B[0m     )\n",
      "File \u001B[0;32m/Library/Frameworks/Python.framework/Versions/3.12/lib/python3.12/site-packages/sqlalchemy/orm/session.py:4296\u001B[0m, in \u001B[0;36mSession.flush\u001B[0;34m(self, objects)\u001B[0m\n\u001B[1;32m   4294\u001B[0m \u001B[38;5;28;01mtry\u001B[39;00m:\n\u001B[1;32m   4295\u001B[0m     \u001B[38;5;28mself\u001B[39m\u001B[38;5;241m.\u001B[39m_flushing \u001B[38;5;241m=\u001B[39m \u001B[38;5;28;01mTrue\u001B[39;00m\n\u001B[0;32m-> 4296\u001B[0m     \u001B[38;5;28;43mself\u001B[39;49m\u001B[38;5;241;43m.\u001B[39;49m\u001B[43m_flush\u001B[49m\u001B[43m(\u001B[49m\u001B[43mobjects\u001B[49m\u001B[43m)\u001B[49m\n\u001B[1;32m   4297\u001B[0m \u001B[38;5;28;01mfinally\u001B[39;00m:\n\u001B[1;32m   4298\u001B[0m     \u001B[38;5;28mself\u001B[39m\u001B[38;5;241m.\u001B[39m_flushing \u001B[38;5;241m=\u001B[39m \u001B[38;5;28;01mFalse\u001B[39;00m\n",
      "File \u001B[0;32m/Library/Frameworks/Python.framework/Versions/3.12/lib/python3.12/site-packages/sqlalchemy/orm/session.py:4431\u001B[0m, in \u001B[0;36mSession._flush\u001B[0;34m(self, objects)\u001B[0m\n\u001B[1;32m   4428\u001B[0m     transaction\u001B[38;5;241m.\u001B[39mcommit()\n\u001B[1;32m   4430\u001B[0m \u001B[38;5;28;01mexcept\u001B[39;00m:\n\u001B[0;32m-> 4431\u001B[0m \u001B[43m    \u001B[49m\u001B[38;5;28;43;01mwith\u001B[39;49;00m\u001B[43m \u001B[49m\u001B[43mutil\u001B[49m\u001B[38;5;241;43m.\u001B[39;49m\u001B[43msafe_reraise\u001B[49m\u001B[43m(\u001B[49m\u001B[43m)\u001B[49m\u001B[43m:\u001B[49m\n\u001B[1;32m   4432\u001B[0m \u001B[43m        \u001B[49m\u001B[43mtransaction\u001B[49m\u001B[38;5;241;43m.\u001B[39;49m\u001B[43mrollback\u001B[49m\u001B[43m(\u001B[49m\u001B[43m_capture_exception\u001B[49m\u001B[38;5;241;43m=\u001B[39;49m\u001B[38;5;28;43;01mTrue\u001B[39;49;00m\u001B[43m)\u001B[49m\n",
      "File \u001B[0;32m/Library/Frameworks/Python.framework/Versions/3.12/lib/python3.12/site-packages/sqlalchemy/util/langhelpers.py:146\u001B[0m, in \u001B[0;36msafe_reraise.__exit__\u001B[0;34m(self, type_, value, traceback)\u001B[0m\n\u001B[1;32m    144\u001B[0m     \u001B[38;5;28;01massert\u001B[39;00m exc_value \u001B[38;5;129;01mis\u001B[39;00m \u001B[38;5;129;01mnot\u001B[39;00m \u001B[38;5;28;01mNone\u001B[39;00m\n\u001B[1;32m    145\u001B[0m     \u001B[38;5;28mself\u001B[39m\u001B[38;5;241m.\u001B[39m_exc_info \u001B[38;5;241m=\u001B[39m \u001B[38;5;28;01mNone\u001B[39;00m  \u001B[38;5;66;03m# remove potential circular references\u001B[39;00m\n\u001B[0;32m--> 146\u001B[0m     \u001B[38;5;28;01mraise\u001B[39;00m exc_value\u001B[38;5;241m.\u001B[39mwith_traceback(exc_tb)\n\u001B[1;32m    147\u001B[0m \u001B[38;5;28;01melse\u001B[39;00m:\n\u001B[1;32m    148\u001B[0m     \u001B[38;5;28mself\u001B[39m\u001B[38;5;241m.\u001B[39m_exc_info \u001B[38;5;241m=\u001B[39m \u001B[38;5;28;01mNone\u001B[39;00m  \u001B[38;5;66;03m# remove potential circular references\u001B[39;00m\n",
      "File \u001B[0;32m/Library/Frameworks/Python.framework/Versions/3.12/lib/python3.12/site-packages/sqlalchemy/orm/session.py:4392\u001B[0m, in \u001B[0;36mSession._flush\u001B[0;34m(self, objects)\u001B[0m\n\u001B[1;32m   4390\u001B[0m \u001B[38;5;28mself\u001B[39m\u001B[38;5;241m.\u001B[39m_warn_on_events \u001B[38;5;241m=\u001B[39m \u001B[38;5;28;01mTrue\u001B[39;00m\n\u001B[1;32m   4391\u001B[0m \u001B[38;5;28;01mtry\u001B[39;00m:\n\u001B[0;32m-> 4392\u001B[0m     \u001B[43mflush_context\u001B[49m\u001B[38;5;241;43m.\u001B[39;49m\u001B[43mexecute\u001B[49m\u001B[43m(\u001B[49m\u001B[43m)\u001B[49m\n\u001B[1;32m   4393\u001B[0m \u001B[38;5;28;01mfinally\u001B[39;00m:\n\u001B[1;32m   4394\u001B[0m     \u001B[38;5;28mself\u001B[39m\u001B[38;5;241m.\u001B[39m_warn_on_events \u001B[38;5;241m=\u001B[39m \u001B[38;5;28;01mFalse\u001B[39;00m\n",
      "File \u001B[0;32m/Library/Frameworks/Python.framework/Versions/3.12/lib/python3.12/site-packages/sqlalchemy/orm/unitofwork.py:466\u001B[0m, in \u001B[0;36mUOWTransaction.execute\u001B[0;34m(self)\u001B[0m\n\u001B[1;32m    464\u001B[0m \u001B[38;5;28;01melse\u001B[39;00m:\n\u001B[1;32m    465\u001B[0m     \u001B[38;5;28;01mfor\u001B[39;00m rec \u001B[38;5;129;01min\u001B[39;00m topological\u001B[38;5;241m.\u001B[39msort(\u001B[38;5;28mself\u001B[39m\u001B[38;5;241m.\u001B[39mdependencies, postsort_actions):\n\u001B[0;32m--> 466\u001B[0m         \u001B[43mrec\u001B[49m\u001B[38;5;241;43m.\u001B[39;49m\u001B[43mexecute\u001B[49m\u001B[43m(\u001B[49m\u001B[38;5;28;43mself\u001B[39;49m\u001B[43m)\u001B[49m\n",
      "File \u001B[0;32m/Library/Frameworks/Python.framework/Versions/3.12/lib/python3.12/site-packages/sqlalchemy/orm/unitofwork.py:642\u001B[0m, in \u001B[0;36mSaveUpdateAll.execute\u001B[0;34m(self, uow)\u001B[0m\n\u001B[1;32m    640\u001B[0m \u001B[38;5;129m@util\u001B[39m\u001B[38;5;241m.\u001B[39mpreload_module(\u001B[38;5;124m\"\u001B[39m\u001B[38;5;124msqlalchemy.orm.persistence\u001B[39m\u001B[38;5;124m\"\u001B[39m)\n\u001B[1;32m    641\u001B[0m \u001B[38;5;28;01mdef\u001B[39;00m \u001B[38;5;21mexecute\u001B[39m(\u001B[38;5;28mself\u001B[39m, uow):\n\u001B[0;32m--> 642\u001B[0m     \u001B[43mutil\u001B[49m\u001B[38;5;241;43m.\u001B[39;49m\u001B[43mpreloaded\u001B[49m\u001B[38;5;241;43m.\u001B[39;49m\u001B[43morm_persistence\u001B[49m\u001B[38;5;241;43m.\u001B[39;49m\u001B[43msave_obj\u001B[49m\u001B[43m(\u001B[49m\n\u001B[1;32m    643\u001B[0m \u001B[43m        \u001B[49m\u001B[38;5;28;43mself\u001B[39;49m\u001B[38;5;241;43m.\u001B[39;49m\u001B[43mmapper\u001B[49m\u001B[43m,\u001B[49m\n\u001B[1;32m    644\u001B[0m \u001B[43m        \u001B[49m\u001B[43muow\u001B[49m\u001B[38;5;241;43m.\u001B[39;49m\u001B[43mstates_for_mapper_hierarchy\u001B[49m\u001B[43m(\u001B[49m\u001B[38;5;28;43mself\u001B[39;49m\u001B[38;5;241;43m.\u001B[39;49m\u001B[43mmapper\u001B[49m\u001B[43m,\u001B[49m\u001B[43m \u001B[49m\u001B[38;5;28;43;01mFalse\u001B[39;49;00m\u001B[43m,\u001B[49m\u001B[43m \u001B[49m\u001B[38;5;28;43;01mFalse\u001B[39;49;00m\u001B[43m)\u001B[49m\u001B[43m,\u001B[49m\n\u001B[1;32m    645\u001B[0m \u001B[43m        \u001B[49m\u001B[43muow\u001B[49m\u001B[43m,\u001B[49m\n\u001B[1;32m    646\u001B[0m \u001B[43m    \u001B[49m\u001B[43m)\u001B[49m\n",
      "File \u001B[0;32m/Library/Frameworks/Python.framework/Versions/3.12/lib/python3.12/site-packages/sqlalchemy/orm/persistence.py:93\u001B[0m, in \u001B[0;36msave_obj\u001B[0;34m(base_mapper, states, uowtransaction, single)\u001B[0m\n\u001B[1;32m     81\u001B[0m     update \u001B[38;5;241m=\u001B[39m _collect_update_commands(\n\u001B[1;32m     82\u001B[0m         uowtransaction, table, states_to_update\n\u001B[1;32m     83\u001B[0m     )\n\u001B[1;32m     85\u001B[0m     _emit_update_statements(\n\u001B[1;32m     86\u001B[0m         base_mapper,\n\u001B[1;32m     87\u001B[0m         uowtransaction,\n\u001B[0;32m   (...)\u001B[0m\n\u001B[1;32m     90\u001B[0m         update,\n\u001B[1;32m     91\u001B[0m     )\n\u001B[0;32m---> 93\u001B[0m     \u001B[43m_emit_insert_statements\u001B[49m\u001B[43m(\u001B[49m\n\u001B[1;32m     94\u001B[0m \u001B[43m        \u001B[49m\u001B[43mbase_mapper\u001B[49m\u001B[43m,\u001B[49m\n\u001B[1;32m     95\u001B[0m \u001B[43m        \u001B[49m\u001B[43muowtransaction\u001B[49m\u001B[43m,\u001B[49m\n\u001B[1;32m     96\u001B[0m \u001B[43m        \u001B[49m\u001B[43mmapper\u001B[49m\u001B[43m,\u001B[49m\n\u001B[1;32m     97\u001B[0m \u001B[43m        \u001B[49m\u001B[43mtable\u001B[49m\u001B[43m,\u001B[49m\n\u001B[1;32m     98\u001B[0m \u001B[43m        \u001B[49m\u001B[43minsert\u001B[49m\u001B[43m,\u001B[49m\n\u001B[1;32m     99\u001B[0m \u001B[43m    \u001B[49m\u001B[43m)\u001B[49m\n\u001B[1;32m    101\u001B[0m _finalize_insert_update_commands(\n\u001B[1;32m    102\u001B[0m     base_mapper,\n\u001B[1;32m    103\u001B[0m     uowtransaction,\n\u001B[0;32m   (...)\u001B[0m\n\u001B[1;32m    119\u001B[0m     ),\n\u001B[1;32m    120\u001B[0m )\n",
      "File \u001B[0;32m/Library/Frameworks/Python.framework/Versions/3.12/lib/python3.12/site-packages/sqlalchemy/orm/persistence.py:1233\u001B[0m, in \u001B[0;36m_emit_insert_statements\u001B[0;34m(base_mapper, uowtransaction, mapper, table, insert, bookkeeping, use_orm_insert_stmt, execution_options)\u001B[0m\n\u001B[1;32m   1227\u001B[0m     result \u001B[38;5;241m=\u001B[39m connection\u001B[38;5;241m.\u001B[39mexecute(\n\u001B[1;32m   1228\u001B[0m         statement\u001B[38;5;241m.\u001B[39mvalues(value_params),\n\u001B[1;32m   1229\u001B[0m         params,\n\u001B[1;32m   1230\u001B[0m         execution_options\u001B[38;5;241m=\u001B[39mexecution_options,\n\u001B[1;32m   1231\u001B[0m     )\n\u001B[1;32m   1232\u001B[0m \u001B[38;5;28;01melse\u001B[39;00m:\n\u001B[0;32m-> 1233\u001B[0m     result \u001B[38;5;241m=\u001B[39m \u001B[43mconnection\u001B[49m\u001B[38;5;241;43m.\u001B[39;49m\u001B[43mexecute\u001B[49m\u001B[43m(\u001B[49m\n\u001B[1;32m   1234\u001B[0m \u001B[43m        \u001B[49m\u001B[43mstatement\u001B[49m\u001B[43m,\u001B[49m\n\u001B[1;32m   1235\u001B[0m \u001B[43m        \u001B[49m\u001B[43mparams\u001B[49m\u001B[43m,\u001B[49m\n\u001B[1;32m   1236\u001B[0m \u001B[43m        \u001B[49m\u001B[43mexecution_options\u001B[49m\u001B[38;5;241;43m=\u001B[39;49m\u001B[43mexecution_options\u001B[49m\u001B[43m,\u001B[49m\n\u001B[1;32m   1237\u001B[0m \u001B[43m    \u001B[49m\u001B[43m)\u001B[49m\n\u001B[1;32m   1239\u001B[0m primary_key \u001B[38;5;241m=\u001B[39m result\u001B[38;5;241m.\u001B[39minserted_primary_key\n\u001B[1;32m   1240\u001B[0m \u001B[38;5;28;01mif\u001B[39;00m primary_key \u001B[38;5;129;01mis\u001B[39;00m \u001B[38;5;28;01mNone\u001B[39;00m:\n",
      "File \u001B[0;32m/Library/Frameworks/Python.framework/Versions/3.12/lib/python3.12/site-packages/sqlalchemy/engine/base.py:1422\u001B[0m, in \u001B[0;36mConnection.execute\u001B[0;34m(self, statement, parameters, execution_options)\u001B[0m\n\u001B[1;32m   1420\u001B[0m     \u001B[38;5;28;01mraise\u001B[39;00m exc\u001B[38;5;241m.\u001B[39mObjectNotExecutableError(statement) \u001B[38;5;28;01mfrom\u001B[39;00m \u001B[38;5;21;01merr\u001B[39;00m\n\u001B[1;32m   1421\u001B[0m \u001B[38;5;28;01melse\u001B[39;00m:\n\u001B[0;32m-> 1422\u001B[0m     \u001B[38;5;28;01mreturn\u001B[39;00m \u001B[43mmeth\u001B[49m\u001B[43m(\u001B[49m\n\u001B[1;32m   1423\u001B[0m \u001B[43m        \u001B[49m\u001B[38;5;28;43mself\u001B[39;49m\u001B[43m,\u001B[49m\n\u001B[1;32m   1424\u001B[0m \u001B[43m        \u001B[49m\u001B[43mdistilled_parameters\u001B[49m\u001B[43m,\u001B[49m\n\u001B[1;32m   1425\u001B[0m \u001B[43m        \u001B[49m\u001B[43mexecution_options\u001B[49m\u001B[43m \u001B[49m\u001B[38;5;129;43;01mor\u001B[39;49;00m\u001B[43m \u001B[49m\u001B[43mNO_OPTIONS\u001B[49m\u001B[43m,\u001B[49m\n\u001B[1;32m   1426\u001B[0m \u001B[43m    \u001B[49m\u001B[43m)\u001B[49m\n",
      "File \u001B[0;32m/Library/Frameworks/Python.framework/Versions/3.12/lib/python3.12/site-packages/sqlalchemy/sql/elements.py:514\u001B[0m, in \u001B[0;36mClauseElement._execute_on_connection\u001B[0;34m(self, connection, distilled_params, execution_options)\u001B[0m\n\u001B[1;32m    512\u001B[0m     \u001B[38;5;28;01mif\u001B[39;00m TYPE_CHECKING:\n\u001B[1;32m    513\u001B[0m         \u001B[38;5;28;01massert\u001B[39;00m \u001B[38;5;28misinstance\u001B[39m(\u001B[38;5;28mself\u001B[39m, Executable)\n\u001B[0;32m--> 514\u001B[0m     \u001B[38;5;28;01mreturn\u001B[39;00m \u001B[43mconnection\u001B[49m\u001B[38;5;241;43m.\u001B[39;49m\u001B[43m_execute_clauseelement\u001B[49m\u001B[43m(\u001B[49m\n\u001B[1;32m    515\u001B[0m \u001B[43m        \u001B[49m\u001B[38;5;28;43mself\u001B[39;49m\u001B[43m,\u001B[49m\u001B[43m \u001B[49m\u001B[43mdistilled_params\u001B[49m\u001B[43m,\u001B[49m\u001B[43m \u001B[49m\u001B[43mexecution_options\u001B[49m\n\u001B[1;32m    516\u001B[0m \u001B[43m    \u001B[49m\u001B[43m)\u001B[49m\n\u001B[1;32m    517\u001B[0m \u001B[38;5;28;01melse\u001B[39;00m:\n\u001B[1;32m    518\u001B[0m     \u001B[38;5;28;01mraise\u001B[39;00m exc\u001B[38;5;241m.\u001B[39mObjectNotExecutableError(\u001B[38;5;28mself\u001B[39m)\n",
      "File \u001B[0;32m/Library/Frameworks/Python.framework/Versions/3.12/lib/python3.12/site-packages/sqlalchemy/engine/base.py:1644\u001B[0m, in \u001B[0;36mConnection._execute_clauseelement\u001B[0;34m(self, elem, distilled_parameters, execution_options)\u001B[0m\n\u001B[1;32m   1632\u001B[0m compiled_cache: Optional[CompiledCacheType] \u001B[38;5;241m=\u001B[39m execution_options\u001B[38;5;241m.\u001B[39mget(\n\u001B[1;32m   1633\u001B[0m     \u001B[38;5;124m\"\u001B[39m\u001B[38;5;124mcompiled_cache\u001B[39m\u001B[38;5;124m\"\u001B[39m, \u001B[38;5;28mself\u001B[39m\u001B[38;5;241m.\u001B[39mengine\u001B[38;5;241m.\u001B[39m_compiled_cache\n\u001B[1;32m   1634\u001B[0m )\n\u001B[1;32m   1636\u001B[0m compiled_sql, extracted_params, cache_hit \u001B[38;5;241m=\u001B[39m elem\u001B[38;5;241m.\u001B[39m_compile_w_cache(\n\u001B[1;32m   1637\u001B[0m     dialect\u001B[38;5;241m=\u001B[39mdialect,\n\u001B[1;32m   1638\u001B[0m     compiled_cache\u001B[38;5;241m=\u001B[39mcompiled_cache,\n\u001B[0;32m   (...)\u001B[0m\n\u001B[1;32m   1642\u001B[0m     linting\u001B[38;5;241m=\u001B[39m\u001B[38;5;28mself\u001B[39m\u001B[38;5;241m.\u001B[39mdialect\u001B[38;5;241m.\u001B[39mcompiler_linting \u001B[38;5;241m|\u001B[39m compiler\u001B[38;5;241m.\u001B[39mWARN_LINTING,\n\u001B[1;32m   1643\u001B[0m )\n\u001B[0;32m-> 1644\u001B[0m ret \u001B[38;5;241m=\u001B[39m \u001B[38;5;28;43mself\u001B[39;49m\u001B[38;5;241;43m.\u001B[39;49m\u001B[43m_execute_context\u001B[49m\u001B[43m(\u001B[49m\n\u001B[1;32m   1645\u001B[0m \u001B[43m    \u001B[49m\u001B[43mdialect\u001B[49m\u001B[43m,\u001B[49m\n\u001B[1;32m   1646\u001B[0m \u001B[43m    \u001B[49m\u001B[43mdialect\u001B[49m\u001B[38;5;241;43m.\u001B[39;49m\u001B[43mexecution_ctx_cls\u001B[49m\u001B[38;5;241;43m.\u001B[39;49m\u001B[43m_init_compiled\u001B[49m\u001B[43m,\u001B[49m\n\u001B[1;32m   1647\u001B[0m \u001B[43m    \u001B[49m\u001B[43mcompiled_sql\u001B[49m\u001B[43m,\u001B[49m\n\u001B[1;32m   1648\u001B[0m \u001B[43m    \u001B[49m\u001B[43mdistilled_parameters\u001B[49m\u001B[43m,\u001B[49m\n\u001B[1;32m   1649\u001B[0m \u001B[43m    \u001B[49m\u001B[43mexecution_options\u001B[49m\u001B[43m,\u001B[49m\n\u001B[1;32m   1650\u001B[0m \u001B[43m    \u001B[49m\u001B[43mcompiled_sql\u001B[49m\u001B[43m,\u001B[49m\n\u001B[1;32m   1651\u001B[0m \u001B[43m    \u001B[49m\u001B[43mdistilled_parameters\u001B[49m\u001B[43m,\u001B[49m\n\u001B[1;32m   1652\u001B[0m \u001B[43m    \u001B[49m\u001B[43melem\u001B[49m\u001B[43m,\u001B[49m\n\u001B[1;32m   1653\u001B[0m \u001B[43m    \u001B[49m\u001B[43mextracted_params\u001B[49m\u001B[43m,\u001B[49m\n\u001B[1;32m   1654\u001B[0m \u001B[43m    \u001B[49m\u001B[43mcache_hit\u001B[49m\u001B[38;5;241;43m=\u001B[39;49m\u001B[43mcache_hit\u001B[49m\u001B[43m,\u001B[49m\n\u001B[1;32m   1655\u001B[0m \u001B[43m\u001B[49m\u001B[43m)\u001B[49m\n\u001B[1;32m   1656\u001B[0m \u001B[38;5;28;01mif\u001B[39;00m has_events:\n\u001B[1;32m   1657\u001B[0m     \u001B[38;5;28mself\u001B[39m\u001B[38;5;241m.\u001B[39mdispatch\u001B[38;5;241m.\u001B[39mafter_execute(\n\u001B[1;32m   1658\u001B[0m         \u001B[38;5;28mself\u001B[39m,\n\u001B[1;32m   1659\u001B[0m         elem,\n\u001B[0;32m   (...)\u001B[0m\n\u001B[1;32m   1663\u001B[0m         ret,\n\u001B[1;32m   1664\u001B[0m     )\n",
      "File \u001B[0;32m/Library/Frameworks/Python.framework/Versions/3.12/lib/python3.12/site-packages/sqlalchemy/engine/base.py:1850\u001B[0m, in \u001B[0;36mConnection._execute_context\u001B[0;34m(self, dialect, constructor, statement, parameters, execution_options, *args, **kw)\u001B[0m\n\u001B[1;32m   1848\u001B[0m     \u001B[38;5;28;01mreturn\u001B[39;00m \u001B[38;5;28mself\u001B[39m\u001B[38;5;241m.\u001B[39m_exec_insertmany_context(dialect, context)\n\u001B[1;32m   1849\u001B[0m \u001B[38;5;28;01melse\u001B[39;00m:\n\u001B[0;32m-> 1850\u001B[0m     \u001B[38;5;28;01mreturn\u001B[39;00m \u001B[38;5;28;43mself\u001B[39;49m\u001B[38;5;241;43m.\u001B[39;49m\u001B[43m_exec_single_context\u001B[49m\u001B[43m(\u001B[49m\n\u001B[1;32m   1851\u001B[0m \u001B[43m        \u001B[49m\u001B[43mdialect\u001B[49m\u001B[43m,\u001B[49m\u001B[43m \u001B[49m\u001B[43mcontext\u001B[49m\u001B[43m,\u001B[49m\u001B[43m \u001B[49m\u001B[43mstatement\u001B[49m\u001B[43m,\u001B[49m\u001B[43m \u001B[49m\u001B[43mparameters\u001B[49m\n\u001B[1;32m   1852\u001B[0m \u001B[43m    \u001B[49m\u001B[43m)\u001B[49m\n",
      "File \u001B[0;32m/Library/Frameworks/Python.framework/Versions/3.12/lib/python3.12/site-packages/sqlalchemy/engine/base.py:1990\u001B[0m, in \u001B[0;36mConnection._exec_single_context\u001B[0;34m(self, dialect, context, statement, parameters)\u001B[0m\n\u001B[1;32m   1987\u001B[0m     result \u001B[38;5;241m=\u001B[39m context\u001B[38;5;241m.\u001B[39m_setup_result_proxy()\n\u001B[1;32m   1989\u001B[0m \u001B[38;5;28;01mexcept\u001B[39;00m \u001B[38;5;167;01mBaseException\u001B[39;00m \u001B[38;5;28;01mas\u001B[39;00m e:\n\u001B[0;32m-> 1990\u001B[0m     \u001B[38;5;28;43mself\u001B[39;49m\u001B[38;5;241;43m.\u001B[39;49m\u001B[43m_handle_dbapi_exception\u001B[49m\u001B[43m(\u001B[49m\n\u001B[1;32m   1991\u001B[0m \u001B[43m        \u001B[49m\u001B[43me\u001B[49m\u001B[43m,\u001B[49m\u001B[43m \u001B[49m\u001B[43mstr_statement\u001B[49m\u001B[43m,\u001B[49m\u001B[43m \u001B[49m\u001B[43meffective_parameters\u001B[49m\u001B[43m,\u001B[49m\u001B[43m \u001B[49m\u001B[43mcursor\u001B[49m\u001B[43m,\u001B[49m\u001B[43m \u001B[49m\u001B[43mcontext\u001B[49m\n\u001B[1;32m   1992\u001B[0m \u001B[43m    \u001B[49m\u001B[43m)\u001B[49m\n\u001B[1;32m   1994\u001B[0m \u001B[38;5;28;01mreturn\u001B[39;00m result\n",
      "File \u001B[0;32m/Library/Frameworks/Python.framework/Versions/3.12/lib/python3.12/site-packages/sqlalchemy/engine/base.py:2357\u001B[0m, in \u001B[0;36mConnection._handle_dbapi_exception\u001B[0;34m(self, e, statement, parameters, cursor, context, is_sub_exec)\u001B[0m\n\u001B[1;32m   2355\u001B[0m \u001B[38;5;28;01melif\u001B[39;00m should_wrap:\n\u001B[1;32m   2356\u001B[0m     \u001B[38;5;28;01massert\u001B[39;00m sqlalchemy_exception \u001B[38;5;129;01mis\u001B[39;00m \u001B[38;5;129;01mnot\u001B[39;00m \u001B[38;5;28;01mNone\u001B[39;00m\n\u001B[0;32m-> 2357\u001B[0m     \u001B[38;5;28;01mraise\u001B[39;00m sqlalchemy_exception\u001B[38;5;241m.\u001B[39mwith_traceback(exc_info[\u001B[38;5;241m2\u001B[39m]) \u001B[38;5;28;01mfrom\u001B[39;00m \u001B[38;5;21;01me\u001B[39;00m\n\u001B[1;32m   2358\u001B[0m \u001B[38;5;28;01melse\u001B[39;00m:\n\u001B[1;32m   2359\u001B[0m     \u001B[38;5;28;01massert\u001B[39;00m exc_info[\u001B[38;5;241m1\u001B[39m] \u001B[38;5;129;01mis\u001B[39;00m \u001B[38;5;129;01mnot\u001B[39;00m \u001B[38;5;28;01mNone\u001B[39;00m\n",
      "File \u001B[0;32m/Library/Frameworks/Python.framework/Versions/3.12/lib/python3.12/site-packages/sqlalchemy/engine/base.py:1971\u001B[0m, in \u001B[0;36mConnection._exec_single_context\u001B[0;34m(self, dialect, context, statement, parameters)\u001B[0m\n\u001B[1;32m   1969\u001B[0m                 \u001B[38;5;28;01mbreak\u001B[39;00m\n\u001B[1;32m   1970\u001B[0m     \u001B[38;5;28;01mif\u001B[39;00m \u001B[38;5;129;01mnot\u001B[39;00m evt_handled:\n\u001B[0;32m-> 1971\u001B[0m         \u001B[38;5;28;43mself\u001B[39;49m\u001B[38;5;241;43m.\u001B[39;49m\u001B[43mdialect\u001B[49m\u001B[38;5;241;43m.\u001B[39;49m\u001B[43mdo_execute\u001B[49m\u001B[43m(\u001B[49m\n\u001B[1;32m   1972\u001B[0m \u001B[43m            \u001B[49m\u001B[43mcursor\u001B[49m\u001B[43m,\u001B[49m\u001B[43m \u001B[49m\u001B[43mstr_statement\u001B[49m\u001B[43m,\u001B[49m\u001B[43m \u001B[49m\u001B[43meffective_parameters\u001B[49m\u001B[43m,\u001B[49m\u001B[43m \u001B[49m\u001B[43mcontext\u001B[49m\n\u001B[1;32m   1973\u001B[0m \u001B[43m        \u001B[49m\u001B[43m)\u001B[49m\n\u001B[1;32m   1975\u001B[0m \u001B[38;5;28;01mif\u001B[39;00m \u001B[38;5;28mself\u001B[39m\u001B[38;5;241m.\u001B[39m_has_events \u001B[38;5;129;01mor\u001B[39;00m \u001B[38;5;28mself\u001B[39m\u001B[38;5;241m.\u001B[39mengine\u001B[38;5;241m.\u001B[39m_has_events:\n\u001B[1;32m   1976\u001B[0m     \u001B[38;5;28mself\u001B[39m\u001B[38;5;241m.\u001B[39mdispatch\u001B[38;5;241m.\u001B[39mafter_cursor_execute(\n\u001B[1;32m   1977\u001B[0m         \u001B[38;5;28mself\u001B[39m,\n\u001B[1;32m   1978\u001B[0m         cursor,\n\u001B[0;32m   (...)\u001B[0m\n\u001B[1;32m   1982\u001B[0m         context\u001B[38;5;241m.\u001B[39mexecutemany,\n\u001B[1;32m   1983\u001B[0m     )\n",
      "File \u001B[0;32m/Library/Frameworks/Python.framework/Versions/3.12/lib/python3.12/site-packages/sqlalchemy/engine/default.py:919\u001B[0m, in \u001B[0;36mDefaultDialect.do_execute\u001B[0;34m(self, cursor, statement, parameters, context)\u001B[0m\n\u001B[1;32m    918\u001B[0m \u001B[38;5;28;01mdef\u001B[39;00m \u001B[38;5;21mdo_execute\u001B[39m(\u001B[38;5;28mself\u001B[39m, cursor, statement, parameters, context\u001B[38;5;241m=\u001B[39m\u001B[38;5;28;01mNone\u001B[39;00m):\n\u001B[0;32m--> 919\u001B[0m     \u001B[43mcursor\u001B[49m\u001B[38;5;241;43m.\u001B[39;49m\u001B[43mexecute\u001B[49m\u001B[43m(\u001B[49m\u001B[43mstatement\u001B[49m\u001B[43m,\u001B[49m\u001B[43m \u001B[49m\u001B[43mparameters\u001B[49m\u001B[43m)\u001B[49m\n",
      "\u001B[0;31mOperationalError\u001B[0m: (sqlite3.OperationalError) no such table: users\n[SQL: INSERT INTO users (name, age) VALUES (?, ?)]\n[parameters: ('André Côté', 47)]\n(Background on this error at: https://sqlalche.me/e/20/e3q8)"
     ]
    }
   ],
   "source": [
    "new_user = User(name='André Côté', age=47)\n",
    "session.add(new_user)\n",
    "session.commit()"
   ],
   "metadata": {
    "collapsed": false,
    "ExecuteTime": {
     "end_time": "2024-03-28T03:28:50.692804Z",
     "start_time": "2024-03-28T03:28:50.515976Z"
    }
   },
   "id": "bf3a7c026d7adb9f",
   "execution_count": 29
  },
  {
   "cell_type": "markdown",
   "source": [
    "Étape 7 : Requêtes "
   ],
   "metadata": {
    "collapsed": false
   },
   "id": "89517cd7bc369420"
  },
  {
   "cell_type": "code",
   "outputs": [
    {
     "ename": "PendingRollbackError",
     "evalue": "This Session's transaction has been rolled back due to a previous exception during flush. To begin a new transaction with this Session, first issue Session.rollback(). Original exception was: (sqlite3.OperationalError) no such table: users\n[SQL: INSERT INTO users (name, age) VALUES (?, ?)]\n[parameters: ('André Côté', 47)]\n(Background on this error at: https://sqlalche.me/e/20/e3q8) (Background on this error at: https://sqlalche.me/e/20/7s2a)",
     "output_type": "error",
     "traceback": [
      "\u001B[0;31m---------------------------------------------------------------------------\u001B[0m",
      "\u001B[0;31mPendingRollbackError\u001B[0m                      Traceback (most recent call last)",
      "Cell \u001B[0;32mIn[30], line 1\u001B[0m\n\u001B[0;32m----> 1\u001B[0m users \u001B[38;5;241m=\u001B[39m \u001B[43msession\u001B[49m\u001B[38;5;241;43m.\u001B[39;49m\u001B[43mquery\u001B[49m\u001B[43m(\u001B[49m\u001B[43mUser\u001B[49m\u001B[43m)\u001B[49m\u001B[38;5;241;43m.\u001B[39;49m\u001B[43mall\u001B[49m\u001B[43m(\u001B[49m\u001B[43m)\u001B[49m\n\u001B[1;32m      2\u001B[0m \u001B[38;5;28;01mfor\u001B[39;00m user \u001B[38;5;129;01min\u001B[39;00m users:\n\u001B[1;32m      3\u001B[0m     \u001B[38;5;28mprint\u001B[39m(user\u001B[38;5;241m.\u001B[39mname, user\u001B[38;5;241m.\u001B[39mage)\n",
      "File \u001B[0;32m/Library/Frameworks/Python.framework/Versions/3.12/lib/python3.12/site-packages/sqlalchemy/orm/query.py:2673\u001B[0m, in \u001B[0;36mQuery.all\u001B[0;34m(self)\u001B[0m\n\u001B[1;32m   2651\u001B[0m \u001B[38;5;28;01mdef\u001B[39;00m \u001B[38;5;21mall\u001B[39m(\u001B[38;5;28mself\u001B[39m) \u001B[38;5;241m-\u001B[39m\u001B[38;5;241m>\u001B[39m List[_T]:\n\u001B[1;32m   2652\u001B[0m \u001B[38;5;250m    \u001B[39m\u001B[38;5;124;03m\"\"\"Return the results represented by this :class:`_query.Query`\u001B[39;00m\n\u001B[1;32m   2653\u001B[0m \u001B[38;5;124;03m    as a list.\u001B[39;00m\n\u001B[1;32m   2654\u001B[0m \n\u001B[0;32m   (...)\u001B[0m\n\u001B[1;32m   2671\u001B[0m \u001B[38;5;124;03m        :meth:`_engine.Result.scalars` - v2 comparable method.\u001B[39;00m\n\u001B[1;32m   2672\u001B[0m \u001B[38;5;124;03m    \"\"\"\u001B[39;00m\n\u001B[0;32m-> 2673\u001B[0m     \u001B[38;5;28;01mreturn\u001B[39;00m \u001B[38;5;28;43mself\u001B[39;49m\u001B[38;5;241;43m.\u001B[39;49m\u001B[43m_iter\u001B[49m\u001B[43m(\u001B[49m\u001B[43m)\u001B[49m\u001B[38;5;241m.\u001B[39mall()\n",
      "File \u001B[0;32m/Library/Frameworks/Python.framework/Versions/3.12/lib/python3.12/site-packages/sqlalchemy/orm/query.py:2827\u001B[0m, in \u001B[0;36mQuery._iter\u001B[0;34m(self)\u001B[0m\n\u001B[1;32m   2824\u001B[0m params \u001B[38;5;241m=\u001B[39m \u001B[38;5;28mself\u001B[39m\u001B[38;5;241m.\u001B[39m_params\n\u001B[1;32m   2826\u001B[0m statement \u001B[38;5;241m=\u001B[39m \u001B[38;5;28mself\u001B[39m\u001B[38;5;241m.\u001B[39m_statement_20()\n\u001B[0;32m-> 2827\u001B[0m result: Union[ScalarResult[_T], Result[_T]] \u001B[38;5;241m=\u001B[39m \u001B[38;5;28;43mself\u001B[39;49m\u001B[38;5;241;43m.\u001B[39;49m\u001B[43msession\u001B[49m\u001B[38;5;241;43m.\u001B[39;49m\u001B[43mexecute\u001B[49m\u001B[43m(\u001B[49m\n\u001B[1;32m   2828\u001B[0m \u001B[43m    \u001B[49m\u001B[43mstatement\u001B[49m\u001B[43m,\u001B[49m\n\u001B[1;32m   2829\u001B[0m \u001B[43m    \u001B[49m\u001B[43mparams\u001B[49m\u001B[43m,\u001B[49m\n\u001B[1;32m   2830\u001B[0m \u001B[43m    \u001B[49m\u001B[43mexecution_options\u001B[49m\u001B[38;5;241;43m=\u001B[39;49m\u001B[43m{\u001B[49m\u001B[38;5;124;43m\"\u001B[39;49m\u001B[38;5;124;43m_sa_orm_load_options\u001B[39;49m\u001B[38;5;124;43m\"\u001B[39;49m\u001B[43m:\u001B[49m\u001B[43m \u001B[49m\u001B[38;5;28;43mself\u001B[39;49m\u001B[38;5;241;43m.\u001B[39;49m\u001B[43mload_options\u001B[49m\u001B[43m}\u001B[49m\u001B[43m,\u001B[49m\n\u001B[1;32m   2831\u001B[0m \u001B[43m\u001B[49m\u001B[43m)\u001B[49m\n\u001B[1;32m   2833\u001B[0m \u001B[38;5;66;03m# legacy: automatically set scalars, unique\u001B[39;00m\n\u001B[1;32m   2834\u001B[0m \u001B[38;5;28;01mif\u001B[39;00m result\u001B[38;5;241m.\u001B[39m_attributes\u001B[38;5;241m.\u001B[39mget(\u001B[38;5;124m\"\u001B[39m\u001B[38;5;124mis_single_entity\u001B[39m\u001B[38;5;124m\"\u001B[39m, \u001B[38;5;28;01mFalse\u001B[39;00m):\n",
      "File \u001B[0;32m/Library/Frameworks/Python.framework/Versions/3.12/lib/python3.12/site-packages/sqlalchemy/orm/session.py:2306\u001B[0m, in \u001B[0;36mSession.execute\u001B[0;34m(self, statement, params, execution_options, bind_arguments, _parent_execute_state, _add_event)\u001B[0m\n\u001B[1;32m   2245\u001B[0m \u001B[38;5;28;01mdef\u001B[39;00m \u001B[38;5;21mexecute\u001B[39m(\n\u001B[1;32m   2246\u001B[0m     \u001B[38;5;28mself\u001B[39m,\n\u001B[1;32m   2247\u001B[0m     statement: Executable,\n\u001B[0;32m   (...)\u001B[0m\n\u001B[1;32m   2253\u001B[0m     _add_event: Optional[Any] \u001B[38;5;241m=\u001B[39m \u001B[38;5;28;01mNone\u001B[39;00m,\n\u001B[1;32m   2254\u001B[0m ) \u001B[38;5;241m-\u001B[39m\u001B[38;5;241m>\u001B[39m Result[Any]:\n\u001B[1;32m   2255\u001B[0m \u001B[38;5;250m    \u001B[39m\u001B[38;5;124mr\u001B[39m\u001B[38;5;124;03m\"\"\"Execute a SQL expression construct.\u001B[39;00m\n\u001B[1;32m   2256\u001B[0m \n\u001B[1;32m   2257\u001B[0m \u001B[38;5;124;03m    Returns a :class:`_engine.Result` object representing\u001B[39;00m\n\u001B[0;32m   (...)\u001B[0m\n\u001B[1;32m   2304\u001B[0m \n\u001B[1;32m   2305\u001B[0m \u001B[38;5;124;03m    \"\"\"\u001B[39;00m\n\u001B[0;32m-> 2306\u001B[0m     \u001B[38;5;28;01mreturn\u001B[39;00m \u001B[38;5;28;43mself\u001B[39;49m\u001B[38;5;241;43m.\u001B[39;49m\u001B[43m_execute_internal\u001B[49m\u001B[43m(\u001B[49m\n\u001B[1;32m   2307\u001B[0m \u001B[43m        \u001B[49m\u001B[43mstatement\u001B[49m\u001B[43m,\u001B[49m\n\u001B[1;32m   2308\u001B[0m \u001B[43m        \u001B[49m\u001B[43mparams\u001B[49m\u001B[43m,\u001B[49m\n\u001B[1;32m   2309\u001B[0m \u001B[43m        \u001B[49m\u001B[43mexecution_options\u001B[49m\u001B[38;5;241;43m=\u001B[39;49m\u001B[43mexecution_options\u001B[49m\u001B[43m,\u001B[49m\n\u001B[1;32m   2310\u001B[0m \u001B[43m        \u001B[49m\u001B[43mbind_arguments\u001B[49m\u001B[38;5;241;43m=\u001B[39;49m\u001B[43mbind_arguments\u001B[49m\u001B[43m,\u001B[49m\n\u001B[1;32m   2311\u001B[0m \u001B[43m        \u001B[49m\u001B[43m_parent_execute_state\u001B[49m\u001B[38;5;241;43m=\u001B[39;49m\u001B[43m_parent_execute_state\u001B[49m\u001B[43m,\u001B[49m\n\u001B[1;32m   2312\u001B[0m \u001B[43m        \u001B[49m\u001B[43m_add_event\u001B[49m\u001B[38;5;241;43m=\u001B[39;49m\u001B[43m_add_event\u001B[49m\u001B[43m,\u001B[49m\n\u001B[1;32m   2313\u001B[0m \u001B[43m    \u001B[49m\u001B[43m)\u001B[49m\n",
      "File \u001B[0;32m/Library/Frameworks/Python.framework/Versions/3.12/lib/python3.12/site-packages/sqlalchemy/orm/session.py:2181\u001B[0m, in \u001B[0;36mSession._execute_internal\u001B[0;34m(self, statement, params, execution_options, bind_arguments, _parent_execute_state, _add_event, _scalar_result)\u001B[0m\n\u001B[1;32m   2167\u001B[0m     (\n\u001B[1;32m   2168\u001B[0m         statement,\n\u001B[1;32m   2169\u001B[0m         execution_options,\n\u001B[0;32m   (...)\u001B[0m\n\u001B[1;32m   2176\u001B[0m         \u001B[38;5;28;01mFalse\u001B[39;00m,\n\u001B[1;32m   2177\u001B[0m     )\n\u001B[1;32m   2179\u001B[0m bind \u001B[38;5;241m=\u001B[39m \u001B[38;5;28mself\u001B[39m\u001B[38;5;241m.\u001B[39mget_bind(\u001B[38;5;241m*\u001B[39m\u001B[38;5;241m*\u001B[39mbind_arguments)\n\u001B[0;32m-> 2181\u001B[0m conn \u001B[38;5;241m=\u001B[39m \u001B[38;5;28;43mself\u001B[39;49m\u001B[38;5;241;43m.\u001B[39;49m\u001B[43m_connection_for_bind\u001B[49m\u001B[43m(\u001B[49m\u001B[43mbind\u001B[49m\u001B[43m)\u001B[49m\n\u001B[1;32m   2183\u001B[0m \u001B[38;5;28;01mif\u001B[39;00m _scalar_result \u001B[38;5;129;01mand\u001B[39;00m \u001B[38;5;129;01mnot\u001B[39;00m compile_state_cls:\n\u001B[1;32m   2184\u001B[0m     \u001B[38;5;28;01mif\u001B[39;00m TYPE_CHECKING:\n",
      "File \u001B[0;32m/Library/Frameworks/Python.framework/Versions/3.12/lib/python3.12/site-packages/sqlalchemy/orm/session.py:2050\u001B[0m, in \u001B[0;36mSession._connection_for_bind\u001B[0;34m(self, engine, execution_options, **kw)\u001B[0m\n\u001B[1;32m   2048\u001B[0m \u001B[38;5;28;01mif\u001B[39;00m trans \u001B[38;5;129;01mis\u001B[39;00m \u001B[38;5;28;01mNone\u001B[39;00m:\n\u001B[1;32m   2049\u001B[0m     trans \u001B[38;5;241m=\u001B[39m \u001B[38;5;28mself\u001B[39m\u001B[38;5;241m.\u001B[39m_autobegin_t()\n\u001B[0;32m-> 2050\u001B[0m \u001B[38;5;28;01mreturn\u001B[39;00m \u001B[43mtrans\u001B[49m\u001B[38;5;241;43m.\u001B[39;49m\u001B[43m_connection_for_bind\u001B[49m\u001B[43m(\u001B[49m\u001B[43mengine\u001B[49m\u001B[43m,\u001B[49m\u001B[43m \u001B[49m\u001B[43mexecution_options\u001B[49m\u001B[43m)\u001B[49m\n",
      "File \u001B[0;32m<string>:2\u001B[0m, in \u001B[0;36m_connection_for_bind\u001B[0;34m(self, bind, execution_options)\u001B[0m\n",
      "File \u001B[0;32m/Library/Frameworks/Python.framework/Versions/3.12/lib/python3.12/site-packages/sqlalchemy/orm/state_changes.py:103\u001B[0m, in \u001B[0;36m_StateChange.declare_states.<locals>._go\u001B[0;34m(fn, self, *arg, **kw)\u001B[0m\n\u001B[1;32m     97\u001B[0m current_state \u001B[38;5;241m=\u001B[39m \u001B[38;5;28mself\u001B[39m\u001B[38;5;241m.\u001B[39m_state\n\u001B[1;32m     99\u001B[0m \u001B[38;5;28;01mif\u001B[39;00m (\n\u001B[1;32m    100\u001B[0m     has_prerequisite_states\n\u001B[1;32m    101\u001B[0m     \u001B[38;5;129;01mand\u001B[39;00m current_state \u001B[38;5;129;01mnot\u001B[39;00m \u001B[38;5;129;01min\u001B[39;00m prerequisite_state_collection\n\u001B[1;32m    102\u001B[0m ):\n\u001B[0;32m--> 103\u001B[0m     \u001B[38;5;28;43mself\u001B[39;49m\u001B[38;5;241;43m.\u001B[39;49m\u001B[43m_raise_for_prerequisite_state\u001B[49m\u001B[43m(\u001B[49m\u001B[43mfn\u001B[49m\u001B[38;5;241;43m.\u001B[39;49m\u001B[38;5;18;43m__name__\u001B[39;49m\u001B[43m,\u001B[49m\u001B[43m \u001B[49m\u001B[43mcurrent_state\u001B[49m\u001B[43m)\u001B[49m\n\u001B[1;32m    105\u001B[0m next_state \u001B[38;5;241m=\u001B[39m \u001B[38;5;28mself\u001B[39m\u001B[38;5;241m.\u001B[39m_next_state\n\u001B[1;32m    106\u001B[0m existing_fn \u001B[38;5;241m=\u001B[39m \u001B[38;5;28mself\u001B[39m\u001B[38;5;241m.\u001B[39m_current_fn\n",
      "File \u001B[0;32m/Library/Frameworks/Python.framework/Versions/3.12/lib/python3.12/site-packages/sqlalchemy/orm/session.py:928\u001B[0m, in \u001B[0;36mSessionTransaction._raise_for_prerequisite_state\u001B[0;34m(self, operation_name, state)\u001B[0m\n\u001B[1;32m    926\u001B[0m \u001B[38;5;28;01mif\u001B[39;00m state \u001B[38;5;129;01mis\u001B[39;00m SessionTransactionState\u001B[38;5;241m.\u001B[39mDEACTIVE:\n\u001B[1;32m    927\u001B[0m     \u001B[38;5;28;01mif\u001B[39;00m \u001B[38;5;28mself\u001B[39m\u001B[38;5;241m.\u001B[39m_rollback_exception:\n\u001B[0;32m--> 928\u001B[0m         \u001B[38;5;28;01mraise\u001B[39;00m sa_exc\u001B[38;5;241m.\u001B[39mPendingRollbackError(\n\u001B[1;32m    929\u001B[0m             \u001B[38;5;124m\"\u001B[39m\u001B[38;5;124mThis Session\u001B[39m\u001B[38;5;124m'\u001B[39m\u001B[38;5;124ms transaction has been rolled back \u001B[39m\u001B[38;5;124m\"\u001B[39m\n\u001B[1;32m    930\u001B[0m             \u001B[38;5;124m\"\u001B[39m\u001B[38;5;124mdue to a previous exception during flush.\u001B[39m\u001B[38;5;124m\"\u001B[39m\n\u001B[1;32m    931\u001B[0m             \u001B[38;5;124m\"\u001B[39m\u001B[38;5;124m To begin a new transaction with this Session, \u001B[39m\u001B[38;5;124m\"\u001B[39m\n\u001B[1;32m    932\u001B[0m             \u001B[38;5;124m\"\u001B[39m\u001B[38;5;124mfirst issue Session.rollback().\u001B[39m\u001B[38;5;124m\"\u001B[39m\n\u001B[1;32m    933\u001B[0m             \u001B[38;5;124mf\u001B[39m\u001B[38;5;124m\"\u001B[39m\u001B[38;5;124m Original exception was: \u001B[39m\u001B[38;5;132;01m{\u001B[39;00m\u001B[38;5;28mself\u001B[39m\u001B[38;5;241m.\u001B[39m_rollback_exception\u001B[38;5;132;01m}\u001B[39;00m\u001B[38;5;124m\"\u001B[39m,\n\u001B[1;32m    934\u001B[0m             code\u001B[38;5;241m=\u001B[39m\u001B[38;5;124m\"\u001B[39m\u001B[38;5;124m7s2a\u001B[39m\u001B[38;5;124m\"\u001B[39m,\n\u001B[1;32m    935\u001B[0m         )\n\u001B[1;32m    936\u001B[0m     \u001B[38;5;28;01melse\u001B[39;00m:\n\u001B[1;32m    937\u001B[0m         \u001B[38;5;28;01mraise\u001B[39;00m sa_exc\u001B[38;5;241m.\u001B[39mInvalidRequestError(\n\u001B[1;32m    938\u001B[0m             \u001B[38;5;124m\"\u001B[39m\u001B[38;5;124mThis session is in \u001B[39m\u001B[38;5;124m'\u001B[39m\u001B[38;5;124minactive\u001B[39m\u001B[38;5;124m'\u001B[39m\u001B[38;5;124m state, due to the \u001B[39m\u001B[38;5;124m\"\u001B[39m\n\u001B[1;32m    939\u001B[0m             \u001B[38;5;124m\"\u001B[39m\u001B[38;5;124mSQL transaction being rolled back; no further SQL \u001B[39m\u001B[38;5;124m\"\u001B[39m\n\u001B[1;32m    940\u001B[0m             \u001B[38;5;124m\"\u001B[39m\u001B[38;5;124mcan be emitted within this transaction.\u001B[39m\u001B[38;5;124m\"\u001B[39m\n\u001B[1;32m    941\u001B[0m         )\n",
      "\u001B[0;31mPendingRollbackError\u001B[0m: This Session's transaction has been rolled back due to a previous exception during flush. To begin a new transaction with this Session, first issue Session.rollback(). Original exception was: (sqlite3.OperationalError) no such table: users\n[SQL: INSERT INTO users (name, age) VALUES (?, ?)]\n[parameters: ('André Côté', 47)]\n(Background on this error at: https://sqlalche.me/e/20/e3q8) (Background on this error at: https://sqlalche.me/e/20/7s2a)"
     ]
    }
   ],
   "source": [
    "users = session.query(User).all()\n",
    "for user in users:\n",
    "    print(user.name, user.age)"
   ],
   "metadata": {
    "collapsed": false,
    "ExecuteTime": {
     "end_time": "2024-03-28T03:28:54.636559Z",
     "start_time": "2024-03-28T03:28:54.570559Z"
    }
   },
   "id": "d4d1b373093c6a3b",
   "execution_count": 30
  },
  {
   "cell_type": "markdown",
   "source": [
    "Étape 8 : Mise à jour et supression"
   ],
   "metadata": {
    "collapsed": false
   },
   "id": "1294e6da1b9c5bf3"
  },
  {
   "cell_type": "code",
   "outputs": [
    {
     "ename": "PendingRollbackError",
     "evalue": "This Session's transaction has been rolled back due to a previous exception during flush. To begin a new transaction with this Session, first issue Session.rollback(). Original exception was: (sqlite3.OperationalError) no such table: users\n[SQL: INSERT INTO users (name, age) VALUES (?, ?)]\n[parameters: ('André Côté', 47)]\n(Background on this error at: https://sqlalche.me/e/20/e3q8) (Background on this error at: https://sqlalche.me/e/20/7s2a)",
     "output_type": "error",
     "traceback": [
      "\u001B[0;31m---------------------------------------------------------------------------\u001B[0m",
      "\u001B[0;31mPendingRollbackError\u001B[0m                      Traceback (most recent call last)",
      "Cell \u001B[0;32mIn[31], line 2\u001B[0m\n\u001B[1;32m      1\u001B[0m \u001B[38;5;66;03m# Mise à jour\u001B[39;00m\n\u001B[0;32m----> 2\u001B[0m user_to_update \u001B[38;5;241m=\u001B[39m \u001B[43msession\u001B[49m\u001B[38;5;241;43m.\u001B[39;49m\u001B[43mquery\u001B[49m\u001B[43m(\u001B[49m\u001B[43mUser\u001B[49m\u001B[43m)\u001B[49m\u001B[38;5;241;43m.\u001B[39;49m\u001B[43mfilter_by\u001B[49m\u001B[43m(\u001B[49m\u001B[43mname\u001B[49m\u001B[38;5;241;43m=\u001B[39;49m\u001B[38;5;124;43m'\u001B[39;49m\u001B[38;5;124;43mAndré Côté\u001B[39;49m\u001B[38;5;124;43m'\u001B[39;49m\u001B[43m)\u001B[49m\u001B[38;5;241;43m.\u001B[39;49m\u001B[43mfirst\u001B[49m\u001B[43m(\u001B[49m\u001B[43m)\u001B[49m\n\u001B[1;32m      3\u001B[0m user_to_update\u001B[38;5;241m.\u001B[39mage \u001B[38;5;241m=\u001B[39m \u001B[38;5;241m50\u001B[39m\n\u001B[1;32m      4\u001B[0m session\u001B[38;5;241m.\u001B[39mcommit()\n",
      "File \u001B[0;32m/Library/Frameworks/Python.framework/Versions/3.12/lib/python3.12/site-packages/sqlalchemy/orm/query.py:2728\u001B[0m, in \u001B[0;36mQuery.first\u001B[0;34m(self)\u001B[0m\n\u001B[1;32m   2726\u001B[0m     \u001B[38;5;28;01mreturn\u001B[39;00m \u001B[38;5;28mself\u001B[39m\u001B[38;5;241m.\u001B[39m_iter()\u001B[38;5;241m.\u001B[39mfirst()  \u001B[38;5;66;03m# type: ignore\u001B[39;00m\n\u001B[1;32m   2727\u001B[0m \u001B[38;5;28;01melse\u001B[39;00m:\n\u001B[0;32m-> 2728\u001B[0m     \u001B[38;5;28;01mreturn\u001B[39;00m \u001B[38;5;28;43mself\u001B[39;49m\u001B[38;5;241;43m.\u001B[39;49m\u001B[43mlimit\u001B[49m\u001B[43m(\u001B[49m\u001B[38;5;241;43m1\u001B[39;49m\u001B[43m)\u001B[49m\u001B[38;5;241;43m.\u001B[39;49m\u001B[43m_iter\u001B[49m\u001B[43m(\u001B[49m\u001B[43m)\u001B[49m\u001B[38;5;241m.\u001B[39mfirst()\n",
      "File \u001B[0;32m/Library/Frameworks/Python.framework/Versions/3.12/lib/python3.12/site-packages/sqlalchemy/orm/query.py:2827\u001B[0m, in \u001B[0;36mQuery._iter\u001B[0;34m(self)\u001B[0m\n\u001B[1;32m   2824\u001B[0m params \u001B[38;5;241m=\u001B[39m \u001B[38;5;28mself\u001B[39m\u001B[38;5;241m.\u001B[39m_params\n\u001B[1;32m   2826\u001B[0m statement \u001B[38;5;241m=\u001B[39m \u001B[38;5;28mself\u001B[39m\u001B[38;5;241m.\u001B[39m_statement_20()\n\u001B[0;32m-> 2827\u001B[0m result: Union[ScalarResult[_T], Result[_T]] \u001B[38;5;241m=\u001B[39m \u001B[38;5;28;43mself\u001B[39;49m\u001B[38;5;241;43m.\u001B[39;49m\u001B[43msession\u001B[49m\u001B[38;5;241;43m.\u001B[39;49m\u001B[43mexecute\u001B[49m\u001B[43m(\u001B[49m\n\u001B[1;32m   2828\u001B[0m \u001B[43m    \u001B[49m\u001B[43mstatement\u001B[49m\u001B[43m,\u001B[49m\n\u001B[1;32m   2829\u001B[0m \u001B[43m    \u001B[49m\u001B[43mparams\u001B[49m\u001B[43m,\u001B[49m\n\u001B[1;32m   2830\u001B[0m \u001B[43m    \u001B[49m\u001B[43mexecution_options\u001B[49m\u001B[38;5;241;43m=\u001B[39;49m\u001B[43m{\u001B[49m\u001B[38;5;124;43m\"\u001B[39;49m\u001B[38;5;124;43m_sa_orm_load_options\u001B[39;49m\u001B[38;5;124;43m\"\u001B[39;49m\u001B[43m:\u001B[49m\u001B[43m \u001B[49m\u001B[38;5;28;43mself\u001B[39;49m\u001B[38;5;241;43m.\u001B[39;49m\u001B[43mload_options\u001B[49m\u001B[43m}\u001B[49m\u001B[43m,\u001B[49m\n\u001B[1;32m   2831\u001B[0m \u001B[43m\u001B[49m\u001B[43m)\u001B[49m\n\u001B[1;32m   2833\u001B[0m \u001B[38;5;66;03m# legacy: automatically set scalars, unique\u001B[39;00m\n\u001B[1;32m   2834\u001B[0m \u001B[38;5;28;01mif\u001B[39;00m result\u001B[38;5;241m.\u001B[39m_attributes\u001B[38;5;241m.\u001B[39mget(\u001B[38;5;124m\"\u001B[39m\u001B[38;5;124mis_single_entity\u001B[39m\u001B[38;5;124m\"\u001B[39m, \u001B[38;5;28;01mFalse\u001B[39;00m):\n",
      "File \u001B[0;32m/Library/Frameworks/Python.framework/Versions/3.12/lib/python3.12/site-packages/sqlalchemy/orm/session.py:2306\u001B[0m, in \u001B[0;36mSession.execute\u001B[0;34m(self, statement, params, execution_options, bind_arguments, _parent_execute_state, _add_event)\u001B[0m\n\u001B[1;32m   2245\u001B[0m \u001B[38;5;28;01mdef\u001B[39;00m \u001B[38;5;21mexecute\u001B[39m(\n\u001B[1;32m   2246\u001B[0m     \u001B[38;5;28mself\u001B[39m,\n\u001B[1;32m   2247\u001B[0m     statement: Executable,\n\u001B[0;32m   (...)\u001B[0m\n\u001B[1;32m   2253\u001B[0m     _add_event: Optional[Any] \u001B[38;5;241m=\u001B[39m \u001B[38;5;28;01mNone\u001B[39;00m,\n\u001B[1;32m   2254\u001B[0m ) \u001B[38;5;241m-\u001B[39m\u001B[38;5;241m>\u001B[39m Result[Any]:\n\u001B[1;32m   2255\u001B[0m \u001B[38;5;250m    \u001B[39m\u001B[38;5;124mr\u001B[39m\u001B[38;5;124;03m\"\"\"Execute a SQL expression construct.\u001B[39;00m\n\u001B[1;32m   2256\u001B[0m \n\u001B[1;32m   2257\u001B[0m \u001B[38;5;124;03m    Returns a :class:`_engine.Result` object representing\u001B[39;00m\n\u001B[0;32m   (...)\u001B[0m\n\u001B[1;32m   2304\u001B[0m \n\u001B[1;32m   2305\u001B[0m \u001B[38;5;124;03m    \"\"\"\u001B[39;00m\n\u001B[0;32m-> 2306\u001B[0m     \u001B[38;5;28;01mreturn\u001B[39;00m \u001B[38;5;28;43mself\u001B[39;49m\u001B[38;5;241;43m.\u001B[39;49m\u001B[43m_execute_internal\u001B[49m\u001B[43m(\u001B[49m\n\u001B[1;32m   2307\u001B[0m \u001B[43m        \u001B[49m\u001B[43mstatement\u001B[49m\u001B[43m,\u001B[49m\n\u001B[1;32m   2308\u001B[0m \u001B[43m        \u001B[49m\u001B[43mparams\u001B[49m\u001B[43m,\u001B[49m\n\u001B[1;32m   2309\u001B[0m \u001B[43m        \u001B[49m\u001B[43mexecution_options\u001B[49m\u001B[38;5;241;43m=\u001B[39;49m\u001B[43mexecution_options\u001B[49m\u001B[43m,\u001B[49m\n\u001B[1;32m   2310\u001B[0m \u001B[43m        \u001B[49m\u001B[43mbind_arguments\u001B[49m\u001B[38;5;241;43m=\u001B[39;49m\u001B[43mbind_arguments\u001B[49m\u001B[43m,\u001B[49m\n\u001B[1;32m   2311\u001B[0m \u001B[43m        \u001B[49m\u001B[43m_parent_execute_state\u001B[49m\u001B[38;5;241;43m=\u001B[39;49m\u001B[43m_parent_execute_state\u001B[49m\u001B[43m,\u001B[49m\n\u001B[1;32m   2312\u001B[0m \u001B[43m        \u001B[49m\u001B[43m_add_event\u001B[49m\u001B[38;5;241;43m=\u001B[39;49m\u001B[43m_add_event\u001B[49m\u001B[43m,\u001B[49m\n\u001B[1;32m   2313\u001B[0m \u001B[43m    \u001B[49m\u001B[43m)\u001B[49m\n",
      "File \u001B[0;32m/Library/Frameworks/Python.framework/Versions/3.12/lib/python3.12/site-packages/sqlalchemy/orm/session.py:2181\u001B[0m, in \u001B[0;36mSession._execute_internal\u001B[0;34m(self, statement, params, execution_options, bind_arguments, _parent_execute_state, _add_event, _scalar_result)\u001B[0m\n\u001B[1;32m   2167\u001B[0m     (\n\u001B[1;32m   2168\u001B[0m         statement,\n\u001B[1;32m   2169\u001B[0m         execution_options,\n\u001B[0;32m   (...)\u001B[0m\n\u001B[1;32m   2176\u001B[0m         \u001B[38;5;28;01mFalse\u001B[39;00m,\n\u001B[1;32m   2177\u001B[0m     )\n\u001B[1;32m   2179\u001B[0m bind \u001B[38;5;241m=\u001B[39m \u001B[38;5;28mself\u001B[39m\u001B[38;5;241m.\u001B[39mget_bind(\u001B[38;5;241m*\u001B[39m\u001B[38;5;241m*\u001B[39mbind_arguments)\n\u001B[0;32m-> 2181\u001B[0m conn \u001B[38;5;241m=\u001B[39m \u001B[38;5;28;43mself\u001B[39;49m\u001B[38;5;241;43m.\u001B[39;49m\u001B[43m_connection_for_bind\u001B[49m\u001B[43m(\u001B[49m\u001B[43mbind\u001B[49m\u001B[43m)\u001B[49m\n\u001B[1;32m   2183\u001B[0m \u001B[38;5;28;01mif\u001B[39;00m _scalar_result \u001B[38;5;129;01mand\u001B[39;00m \u001B[38;5;129;01mnot\u001B[39;00m compile_state_cls:\n\u001B[1;32m   2184\u001B[0m     \u001B[38;5;28;01mif\u001B[39;00m TYPE_CHECKING:\n",
      "File \u001B[0;32m/Library/Frameworks/Python.framework/Versions/3.12/lib/python3.12/site-packages/sqlalchemy/orm/session.py:2050\u001B[0m, in \u001B[0;36mSession._connection_for_bind\u001B[0;34m(self, engine, execution_options, **kw)\u001B[0m\n\u001B[1;32m   2048\u001B[0m \u001B[38;5;28;01mif\u001B[39;00m trans \u001B[38;5;129;01mis\u001B[39;00m \u001B[38;5;28;01mNone\u001B[39;00m:\n\u001B[1;32m   2049\u001B[0m     trans \u001B[38;5;241m=\u001B[39m \u001B[38;5;28mself\u001B[39m\u001B[38;5;241m.\u001B[39m_autobegin_t()\n\u001B[0;32m-> 2050\u001B[0m \u001B[38;5;28;01mreturn\u001B[39;00m \u001B[43mtrans\u001B[49m\u001B[38;5;241;43m.\u001B[39;49m\u001B[43m_connection_for_bind\u001B[49m\u001B[43m(\u001B[49m\u001B[43mengine\u001B[49m\u001B[43m,\u001B[49m\u001B[43m \u001B[49m\u001B[43mexecution_options\u001B[49m\u001B[43m)\u001B[49m\n",
      "File \u001B[0;32m<string>:2\u001B[0m, in \u001B[0;36m_connection_for_bind\u001B[0;34m(self, bind, execution_options)\u001B[0m\n",
      "File \u001B[0;32m/Library/Frameworks/Python.framework/Versions/3.12/lib/python3.12/site-packages/sqlalchemy/orm/state_changes.py:103\u001B[0m, in \u001B[0;36m_StateChange.declare_states.<locals>._go\u001B[0;34m(fn, self, *arg, **kw)\u001B[0m\n\u001B[1;32m     97\u001B[0m current_state \u001B[38;5;241m=\u001B[39m \u001B[38;5;28mself\u001B[39m\u001B[38;5;241m.\u001B[39m_state\n\u001B[1;32m     99\u001B[0m \u001B[38;5;28;01mif\u001B[39;00m (\n\u001B[1;32m    100\u001B[0m     has_prerequisite_states\n\u001B[1;32m    101\u001B[0m     \u001B[38;5;129;01mand\u001B[39;00m current_state \u001B[38;5;129;01mnot\u001B[39;00m \u001B[38;5;129;01min\u001B[39;00m prerequisite_state_collection\n\u001B[1;32m    102\u001B[0m ):\n\u001B[0;32m--> 103\u001B[0m     \u001B[38;5;28;43mself\u001B[39;49m\u001B[38;5;241;43m.\u001B[39;49m\u001B[43m_raise_for_prerequisite_state\u001B[49m\u001B[43m(\u001B[49m\u001B[43mfn\u001B[49m\u001B[38;5;241;43m.\u001B[39;49m\u001B[38;5;18;43m__name__\u001B[39;49m\u001B[43m,\u001B[49m\u001B[43m \u001B[49m\u001B[43mcurrent_state\u001B[49m\u001B[43m)\u001B[49m\n\u001B[1;32m    105\u001B[0m next_state \u001B[38;5;241m=\u001B[39m \u001B[38;5;28mself\u001B[39m\u001B[38;5;241m.\u001B[39m_next_state\n\u001B[1;32m    106\u001B[0m existing_fn \u001B[38;5;241m=\u001B[39m \u001B[38;5;28mself\u001B[39m\u001B[38;5;241m.\u001B[39m_current_fn\n",
      "File \u001B[0;32m/Library/Frameworks/Python.framework/Versions/3.12/lib/python3.12/site-packages/sqlalchemy/orm/session.py:928\u001B[0m, in \u001B[0;36mSessionTransaction._raise_for_prerequisite_state\u001B[0;34m(self, operation_name, state)\u001B[0m\n\u001B[1;32m    926\u001B[0m \u001B[38;5;28;01mif\u001B[39;00m state \u001B[38;5;129;01mis\u001B[39;00m SessionTransactionState\u001B[38;5;241m.\u001B[39mDEACTIVE:\n\u001B[1;32m    927\u001B[0m     \u001B[38;5;28;01mif\u001B[39;00m \u001B[38;5;28mself\u001B[39m\u001B[38;5;241m.\u001B[39m_rollback_exception:\n\u001B[0;32m--> 928\u001B[0m         \u001B[38;5;28;01mraise\u001B[39;00m sa_exc\u001B[38;5;241m.\u001B[39mPendingRollbackError(\n\u001B[1;32m    929\u001B[0m             \u001B[38;5;124m\"\u001B[39m\u001B[38;5;124mThis Session\u001B[39m\u001B[38;5;124m'\u001B[39m\u001B[38;5;124ms transaction has been rolled back \u001B[39m\u001B[38;5;124m\"\u001B[39m\n\u001B[1;32m    930\u001B[0m             \u001B[38;5;124m\"\u001B[39m\u001B[38;5;124mdue to a previous exception during flush.\u001B[39m\u001B[38;5;124m\"\u001B[39m\n\u001B[1;32m    931\u001B[0m             \u001B[38;5;124m\"\u001B[39m\u001B[38;5;124m To begin a new transaction with this Session, \u001B[39m\u001B[38;5;124m\"\u001B[39m\n\u001B[1;32m    932\u001B[0m             \u001B[38;5;124m\"\u001B[39m\u001B[38;5;124mfirst issue Session.rollback().\u001B[39m\u001B[38;5;124m\"\u001B[39m\n\u001B[1;32m    933\u001B[0m             \u001B[38;5;124mf\u001B[39m\u001B[38;5;124m\"\u001B[39m\u001B[38;5;124m Original exception was: \u001B[39m\u001B[38;5;132;01m{\u001B[39;00m\u001B[38;5;28mself\u001B[39m\u001B[38;5;241m.\u001B[39m_rollback_exception\u001B[38;5;132;01m}\u001B[39;00m\u001B[38;5;124m\"\u001B[39m,\n\u001B[1;32m    934\u001B[0m             code\u001B[38;5;241m=\u001B[39m\u001B[38;5;124m\"\u001B[39m\u001B[38;5;124m7s2a\u001B[39m\u001B[38;5;124m\"\u001B[39m,\n\u001B[1;32m    935\u001B[0m         )\n\u001B[1;32m    936\u001B[0m     \u001B[38;5;28;01melse\u001B[39;00m:\n\u001B[1;32m    937\u001B[0m         \u001B[38;5;28;01mraise\u001B[39;00m sa_exc\u001B[38;5;241m.\u001B[39mInvalidRequestError(\n\u001B[1;32m    938\u001B[0m             \u001B[38;5;124m\"\u001B[39m\u001B[38;5;124mThis session is in \u001B[39m\u001B[38;5;124m'\u001B[39m\u001B[38;5;124minactive\u001B[39m\u001B[38;5;124m'\u001B[39m\u001B[38;5;124m state, due to the \u001B[39m\u001B[38;5;124m\"\u001B[39m\n\u001B[1;32m    939\u001B[0m             \u001B[38;5;124m\"\u001B[39m\u001B[38;5;124mSQL transaction being rolled back; no further SQL \u001B[39m\u001B[38;5;124m\"\u001B[39m\n\u001B[1;32m    940\u001B[0m             \u001B[38;5;124m\"\u001B[39m\u001B[38;5;124mcan be emitted within this transaction.\u001B[39m\u001B[38;5;124m\"\u001B[39m\n\u001B[1;32m    941\u001B[0m         )\n",
      "\u001B[0;31mPendingRollbackError\u001B[0m: This Session's transaction has been rolled back due to a previous exception during flush. To begin a new transaction with this Session, first issue Session.rollback(). Original exception was: (sqlite3.OperationalError) no such table: users\n[SQL: INSERT INTO users (name, age) VALUES (?, ?)]\n[parameters: ('André Côté', 47)]\n(Background on this error at: https://sqlalche.me/e/20/e3q8) (Background on this error at: https://sqlalche.me/e/20/7s2a)"
     ]
    }
   ],
   "source": [
    "# Mise à jour\n",
    "user_to_update = session.query(User).filter_by(name='André Côté').first()\n",
    "user_to_update.age = 50\n",
    "session.commit()\n",
    "\n",
    "# Suppression\n",
    "user_to_delete = session.query(User).filter_by(name='André Côté').first()\n",
    "session.delete(user_to_delete)\n",
    "session.commit()"
   ],
   "metadata": {
    "collapsed": false,
    "ExecuteTime": {
     "end_time": "2024-03-28T03:28:57.992868Z",
     "start_time": "2024-03-28T03:28:57.948597Z"
    }
   },
   "id": "abc38a4aff296c48",
   "execution_count": 31
  },
  {
   "cell_type": "code",
   "outputs": [],
   "source": [],
   "metadata": {
    "collapsed": false
   },
   "id": "60195785ee085dc4"
  }
 ],
 "metadata": {
  "kernelspec": {
   "display_name": "Python 3",
   "language": "python",
   "name": "python3"
  },
  "language_info": {
   "codemirror_mode": {
    "name": "ipython",
    "version": 2
   },
   "file_extension": ".py",
   "mimetype": "text/x-python",
   "name": "python",
   "nbconvert_exporter": "python",
   "pygments_lexer": "ipython2",
   "version": "2.7.6"
  }
 },
 "nbformat": 4,
 "nbformat_minor": 5
}
