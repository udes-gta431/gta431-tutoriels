{
 "cells": [
  {
   "cell_type": "code",
   "execution_count": null,
   "id": "initial_id",
   "metadata": {
    "collapsed": true
   },
   "outputs": [],
   "source": [
    "from gettext import install"
   ]
  },
  {
   "cell_type": "code",
   "outputs": [],
   "source": [
    "import SQLAlchemy\n",
    "import pip"
   ],
   "metadata": {
    "collapsed": false
   },
   "id": "3cb61ea68a8836df"
  },
  {
   "cell_type": "markdown",
   "source": [
    "Étape 1 : Installation de SQLAlchemy"
   ],
   "metadata": {
    "collapsed": false
   },
   "id": "85280632b28004ba"
  },
  {
   "cell_type": "code",
   "outputs": [],
   "source": [
    "pip install SQLAlchemy"
   ],
   "metadata": {
    "collapsed": false
   },
   "id": "2ebead77f5b3813b"
  },
  {
   "cell_type": "markdown",
   "source": [
    "Étape 2 : Configuration de la base de données"
   ],
   "metadata": {
    "collapsed": false
   },
   "id": "6a02f98386fe414c"
  },
  {
   "cell_type": "code",
   "outputs": [],
   "source": [
    "from sqlalchemy import create_engine, Column, Integer, String, Float\n",
    "from sqlalchemy.ext.declarative import declarative_base\n",
    "from sqlalchemy.orm import sessionmaker\n",
    "\n",
    "# Définition de la base\n",
    "Base = declarative_base()\n",
    "\n",
    "# Connexion à la base de données SQLite\n",
    "engine = create_engine('sqlite:///portfolio.db', echo=True)"
   ],
   "metadata": {
    "collapsed": false
   },
   "id": "3d19150c419a1502"
  },
  {
   "cell_type": "markdown",
   "source": [
    "Étape 3 : Définition des modèles"
   ],
   "metadata": {
    "collapsed": false
   },
   "id": "749769488f0611fd"
  },
  {
   "cell_type": "code",
   "outputs": [],
   "source": [
    "class Asset(Base):\n",
    "    __tablename__ = 'assets'\n",
    "    \n",
    "    id = Column(Integer, primary_key=True)\n",
    "    name = Column(String)\n",
    "    type = Column(String)  # Par exemple, 'stock', 'bond', 'mutual fund'\n",
    "    value = Column(Float)\n",
    "\n",
    "Base.metadata.create_all(engine)"
   ],
   "metadata": {
    "collapsed": false
   },
   "id": "97986731a22d8de2"
  },
  {
   "cell_type": "markdown",
   "source": [
    "Étape 4 : Création d'une session"
   ],
   "metadata": {
    "collapsed": false
   },
   "id": "eac1f2585f7db3e3"
  },
  {
   "cell_type": "code",
   "outputs": [],
   "source": [
    "Session = sessionmaker(bind=engine)\n",
    "session = Session()"
   ],
   "metadata": {
    "collapsed": false
   },
   "id": "9629582185d3b355"
  },
  {
   "cell_type": "markdown",
   "source": [
    "Étape 5 : Ajout d'Actifs"
   ],
   "metadata": {
    "collapsed": false
   },
   "id": "f5f1dd224a98d5e5"
  },
  {
   "cell_type": "code",
   "outputs": [],
   "source": [
    "new_asset = Asset(name=\"Google Inc.\", type=\"stock\", value=2800.00)\n",
    "session.add(new_asset)\n",
    "session.commit()"
   ],
   "metadata": {
    "collapsed": false
   },
   "id": "8332b240b0d27dd"
  },
  {
   "cell_type": "markdown",
   "source": [
    "Étape 6 : Requêter les données"
   ],
   "metadata": {
    "collapsed": false
   },
   "id": "58c28c88fa71a8a"
  },
  {
   "cell_type": "code",
   "outputs": [],
   "source": [
    "assets = session.query(Asset).all()\n",
    "for asset in assets:\n",
    "    print(f\"{asset.name}, {asset.type}, ${asset.value}\")"
   ],
   "metadata": {
    "collapsed": false
   },
   "id": "c8757d5abe9234fb"
  }
 ],
 "metadata": {
  "kernelspec": {
   "display_name": "Python 3",
   "language": "python",
   "name": "python3"
  },
  "language_info": {
   "codemirror_mode": {
    "name": "ipython",
    "version": 2
   },
   "file_extension": ".py",
   "mimetype": "text/x-python",
   "name": "python",
   "nbconvert_exporter": "python",
   "pygments_lexer": "ipython2",
   "version": "2.7.6"
  }
 },
 "nbformat": 4,
 "nbformat_minor": 5
}
